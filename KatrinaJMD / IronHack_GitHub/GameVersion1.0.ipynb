{
  "nbformat": 4,
  "nbformat_minor": 0,
  "metadata": {
    "colab": {
      "provenance": [],
      "authorship_tag": "ABX9TyMeRkCBHmCBActL+r8OjE6P",
      "include_colab_link": true
    },
    "kernelspec": {
      "name": "python3",
      "display_name": "Python 3"
    },
    "language_info": {
      "name": "python"
    }
  },
  "cells": [
    {
      "cell_type": "markdown",
      "metadata": {
        "id": "view-in-github",
        "colab_type": "text"
      },
      "source": [
        "<a href=\"https://colab.research.google.com/github/chatlapin/DAFT_0410/blob/main/KatrinaJMD%20/%20IronHack_GitHub/GameVersion1.0.ipynb\" target=\"_parent\"><img src=\"https://colab.research.google.com/assets/colab-badge.svg\" alt=\"Open In Colab\"/></a>"
      ]
    },
    {
      "cell_type": "code",
      "execution_count": null,
      "metadata": {
        "id": "Z5dxDONrHdGm"
      },
      "outputs": [],
      "source": [
        "def risk_game(attacker, defender):\n",
        "    a = sorted(attacker, reverse=True)\n",
        "    b = sorted(defender, reverse=True)\n",
        "\n",
        "    a_scr = sum([i > j for i, j in zip(a,b)])\n",
        "    d_scr = sum([i <= j for i, j in zip(a,b)])\n",
        "\n",
        "    return a_scr, d_scr\n",
        "\n",
        "if __name__ == \"__main__\":\n",
        "    a_scr, d_scr = risk_game([6,2,6], [6, 6])\n",
        "\n",
        "    if d_scr == 0:\n",
        "        print('Defender loses %i armies.' %a_scr)\n",
        "    elif a_scr == 0:\n",
        "        print('Attacker loses %i armies.' %d_scr)\n",
        "    else:\n",
        "        print('Attacker loses %i army and defender loses %i army.' %(a_scr, d_scr))"
      ]
    }
  ]
}