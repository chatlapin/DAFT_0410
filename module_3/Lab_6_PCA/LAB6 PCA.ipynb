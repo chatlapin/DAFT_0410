{
 "cells": [
  {
   "cell_type": "markdown",
   "metadata": {},
   "source": [
    "# Before your start:\n",
    "- Read the README.md file\n",
    "- Comment as much as you can and use the resources (README.md file)\n",
    "- Happy learning!"
   ]
  },
  {
   "cell_type": "code",
   "execution_count": 9,
   "metadata": {},
   "outputs": [],
   "source": [
    "# Run this code:\n",
    "\n",
    "%matplotlib inline\n",
    "\n",
    "import matplotlib.pyplot as plt"
   ]
  },
  {
   "cell_type": "code",
   "execution_count": 1,
   "metadata": {},
   "outputs": [],
   "source": [
    "# Import numpy and pandas:\n",
    "import numpy as np\n",
    "import pandas as pd"
   ]
  },
  {
   "cell_type": "markdown",
   "metadata": {},
   "source": [
    "# Challenge 1 - Reading and Standardizing the Data\n",
    "\n",
    "In this challenge we will work with image data and reduce the dimensions of the data to create a 2 dimensional plot. While we have not worked much with image data before, it can be represented as a numpy array where each pixel is assigned a numeric value. In this lesson, we will look at a dataset of cats and a dataset of dogs and see whether reducing them to two dimensions allows us to see if the data is separable. We will start by loading and processing the data. Run the cell below to load the two csv files and convert them into numpy arrays."
   ]
  },
  {
   "cell_type": "code",
   "execution_count": 31,
   "metadata": {},
   "outputs": [],
   "source": [
    "# Run this code\n",
    "cats = np.array(pd.read_csv(\"https://raw.githubusercontent.com/bioramble/pca/master/cat.csv\", header=None))\n",
    "dogs = np.array(pd.read_csv(\"https://raw.githubusercontent.com/bioramble/pca/master/dog.csv\", header=None))"
   ]
  },
  {
   "cell_type": "markdown",
   "metadata": {},
   "source": [
    "Next, we'll examine the shape of both the cats and the dogs arrays. Print out both shapes below."
   ]
  },
  {
   "cell_type": "code",
   "execution_count": 6,
   "metadata": {},
   "outputs": [
    {
     "data": {
      "text/plain": [
       "(4096, 80)"
      ]
     },
     "execution_count": 6,
     "metadata": {},
     "output_type": "execute_result"
    }
   ],
   "source": [
    "# Your code here:\n",
    "cats = np.shape(cats)\n",
    "cats\n"
   ]
  },
  {
   "cell_type": "code",
   "execution_count": 7,
   "metadata": {},
   "outputs": [
    {
     "data": {
      "text/plain": [
       "(4096, 80)"
      ]
     },
     "execution_count": 7,
     "metadata": {},
     "output_type": "execute_result"
    }
   ],
   "source": [
    "dogs = np.shape(dogs)\n",
    "dogs"
   ]
  },
  {
   "cell_type": "markdown",
   "metadata": {},
   "source": [
    "What this means is that both arrays contain 80 images each (the number of columns). Each image is comprised of 64x64 pixels (so a total of 4096 pixels per image). The images have been flattened such that all 4096 are in a single row.\n",
    "\n",
    "Print out column 0 of the cats array to see what the pixels values look like."
   ]
  },
  {
   "cell_type": "code",
   "execution_count": 37,
   "metadata": {},
   "outputs": [
    {
     "data": {
      "text/plain": [
       "4096"
      ]
     },
     "execution_count": 37,
     "metadata": {},
     "output_type": "execute_result"
    }
   ],
   "source": [
    "len(cats[0:,])"
   ]
  },
  {
   "cell_type": "code",
   "execution_count": 51,
   "metadata": {},
   "outputs": [
    {
     "data": {
      "text/plain": [
       "array([[64, 64, 64, ..., 77, 64, 64],\n",
       "       [64, 64, 64, ..., 77, 64, 64],\n",
       "       [64, 77, 64, ..., 77, 64, 77],\n",
       "       ...,\n",
       "       [64, 64, 64, ..., 64, 64, 61],\n",
       "       [64, 64, 64, ..., 64, 64, 61],\n",
       "       [61, 61, 61, ..., 64, 64, 61]], dtype=int64)"
      ]
     },
     "execution_count": 51,
     "metadata": {},
     "output_type": "execute_result"
    }
   ],
   "source": [
    "cats[:,0].reshape(64,64)"
   ]
  },
  {
   "cell_type": "code",
   "execution_count": 41,
   "metadata": {},
   "outputs": [
    {
     "name": "stdout",
     "output_type": "stream",
     "text": [
      "[[ 64  23 250 ...  60 223 101]\n",
      " [ 64  23 250 ...  50 224 107]\n",
      " [ 64  20 250 ...  63 225 106]\n",
      " ...\n",
      " [ 64  31 244 ... 105 180 114]\n",
      " [ 64  23 232 ... 118 182  91]\n",
      " [ 61   9 244 ... 104 177 113]]\n"
     ]
    }
   ],
   "source": [
    "#print(cats[0])\n",
    "print(cats[0:])"
   ]
  },
  {
   "cell_type": "code",
   "execution_count": 56,
   "metadata": {},
   "outputs": [
    {
     "data": {
      "text/plain": [
       "array([[224, 224, 224, ...,  11,  11,  19],\n",
       "       [224, 224, 224, ...,   8,   8,  11],\n",
       "       [224, 224, 224, ...,   8,  11,  11],\n",
       "       ...,\n",
       "       [213, 213, 204, ..., 106, 106, 106],\n",
       "       [193, 193, 204, ..., 106, 106, 100],\n",
       "       [193, 193, 193, ..., 100, 100, 100]], dtype=int64)"
      ]
     },
     "execution_count": 56,
     "metadata": {},
     "output_type": "execute_result"
    }
   ],
   "source": [
    "dogs[:,0].reshape(64,64)"
   ]
  },
  {
   "cell_type": "markdown",
   "metadata": {},
   "source": [
    "Using `matplotlib` we can plot a single cat or a single dog. We do this by reshaping the vector back to a 64x64 image and then using the `imshow` function.\n",
    "\n",
    "Run the code below to look at the first dog and the first cat."
   ]
  },
  {
   "cell_type": "code",
   "execution_count": 60,
   "metadata": {},
   "outputs": [
    {
     "data": {
      "text/plain": [
       "<matplotlib.image.AxesImage at 0x2318215bee0>"
      ]
     },
     "execution_count": 60,
     "metadata": {},
     "output_type": "execute_result"
    },
    {
     "data": {
      "image/png": "[encoded data removed]",
      "text/plain": [
       "<Figure size 640x480 with 1 Axes>"
      ]
     },
     "metadata": {},
     "output_type": "display_data"
    }
   ],
   "source": [
    "# Run this code:\n",
    "\n",
    "fig, ax = plt.subplots()\n",
    "ax.imshow(cats[:,0].reshape(64, 64).T, cmap=plt.cm.bone, interpolation='nearest') "
   ]
  },
  {
   "cell_type": "code",
   "execution_count": 61,
   "metadata": {},
   "outputs": [
    {
     "data": {
      "text/plain": [
       "<matplotlib.image.AxesImage at 0x231821944f0>"
      ]
     },
     "execution_count": 61,
     "metadata": {},
     "output_type": "execute_result"
    },
    {
     "data": {
      "image/png": "[encoded data removed]",
      "text/plain": [
       "<Figure size 640x480 with 1 Axes>"
      ]
     },
     "metadata": {},
     "output_type": "display_data"
    }
   ],
   "source": [
    "# Run this code:\n",
    "\n",
    "fig, ax = plt.subplots()\n",
    "ax.imshow(dogs[:,0].reshape(64, 64).T, cmap=plt.cm.bone, interpolation='nearest') "
   ]
  },
  {
   "cell_type": "markdown",
   "metadata": {},
   "source": [
    "Next, we would like to create a standardization function. This function will find the mean and standard deviation of each image. We subtract the mean from each pixel and divide each pixel by the standard deviation. Write the function below.\n",
    "\n",
    "Hint: To find the mean and standard deviation of each image, use `numpy`'s version of mean and stadnard deviation and use `axis=0`."
   ]
  },
  {
   "cell_type": "markdown",
   "metadata": {},
   "source": [
    "Now, use the `np.concatenate` function to combine the cats and dogs arrays. Use `axis=1` to combine the two correctly. Make sure to put dogs first."
   ]
  },
  {
   "cell_type": "code",
   "execution_count": 68,
   "metadata": {},
   "outputs": [
    {
     "name": "stdout",
     "output_type": "stream",
     "text": [
      "\n",
      "mean of dogs, axis = 0 :  [ 86.87036133 153.08520508  89.57641602 139.72192383 107.21875\n",
      " 110.53344727 145.91333008 129.62426758 100.31518555 111.27929688\n",
      " 113.30200195  86.80859375 156.45678711  74.37402344 115.13525391\n",
      " 105.3894043  100.39916992 124.72558594  98.86450195  86.07519531\n",
      "  92.5012207  123.43237305  75.37109375 160.19702148 148.74169922\n",
      " 151.13037109  71.95288086 108.87255859  98.92504883 147.12084961\n",
      " 126.89355469 154.64526367 119.2824707  176.171875   145.37915039\n",
      " 144.5625      92.09887695 159.39038086 166.60107422 147.01123047\n",
      " 132.97436523 102.68286133 175.25024414 152.51489258 136.30737305\n",
      " 136.74975586 143.38769531 156.63818359 117.11816406 157.01293945\n",
      " 116.62890625  63.30932617  53.11645508 101.4765625  127.13842773\n",
      " 100.30419922 110.2265625  122.6628418  116.25756836 108.06518555\n",
      " 125.9387207  114.57177734 137.43823242  83.06494141 182.51611328\n",
      " 143.42382812  85.41186523 111.20800781 143.25927734 117.7902832\n",
      " 150.36206055 147.27270508 114.65332031 159.74584961 105.9519043\n",
      " 129.49829102 108.67602539 113.12573242 145.8293457  100.27246094]\n"
     ]
    }
   ],
   "source": [
    "# Your code here:\n",
    "print(\"\\nmean of dogs, axis = 0 : \", np.mean(dogs, axis = 0)) "
   ]
  },
  {
   "cell_type": "code",
   "execution_count": 69,
   "metadata": {},
   "outputs": [
    {
     "name": "stdout",
     "output_type": "stream",
     "text": [
      "\n",
      "mean of cats, axis = 0 :  [ 58.60961914 105.92651367  76.70654297  75.40576172  68.93774414\n",
      " 124.59277344  81.84619141  98.37060547 128.23486328 138.37109375\n",
      " 131.01000977 170.98510742 141.52563477  85.37011719 125.72973633\n",
      " 114.515625   118.96118164  84.36132812  86.71630859 158.82299805\n",
      "  53.68920898 130.87109375 152.79003906 169.81323242  66.42626953\n",
      " 122.22705078  84.70336914 173.52294922 124.28417969 109.91650391\n",
      "  89.74658203  71.20239258  93.21337891  58.1550293  117.23413086\n",
      " 180.37719727  98.83837891 143.53344727 136.16748047  43.03051758\n",
      " 137.52270508  69.82495117 141.43164062 170.62817383 174.93212891\n",
      " 187.10913086 189.74609375 154.75366211 121.72998047 101.93725586\n",
      "  68.96020508 106.49291992 114.39868164 143.00195312 157.80444336\n",
      " 116.49731445 103.53881836 122.97924805 119.79345703 157.18652344\n",
      " 131.90185547  88.17553711  81.78369141 138.07592773 138.16577148\n",
      " 118.41040039 103.95532227  86.4074707  130.89404297 153.68603516\n",
      " 118.29077148 115.99633789  97.88745117 111.52514648 108.92480469\n",
      " 113.12426758 125.55737305 130.51489258 141.3737793  109.18579102]\n"
     ]
    }
   ],
   "source": [
    "print(\"\\nmean of cats, axis = 0 : \", np.mean(cats, axis = 0)) "
   ]
  },
  {
   "cell_type": "code",
   "execution_count": 73,
   "metadata": {},
   "outputs": [],
   "source": [
    "# Your code here:\n",
    "X=np.concatenate((dogs, cats), axis=1)"
   ]
  },
  {
   "cell_type": "markdown",
   "metadata": {},
   "source": [
    "Standardize the concatenated array below."
   ]
  },
  {
   "cell_type": "markdown",
   "metadata": {},
   "source": [
    "# Challenge 2 - Using PCA\n",
    "\n",
    "Now that we have created a standardized matrix of cats and dogs, we'll find the two most important components in the data.\n",
    "\n",
    "Load the `PCA` function from `statsmodels` (read about this function [here](https://www.statsmodels.org/dev/generated/statsmodels.multivariate.pca.PCA.html)) and apply the function to our standarized data. Create a PCA model with two components."
   ]
  },
  {
   "cell_type": "code",
   "execution_count": 75,
   "metadata": {},
   "outputs": [],
   "source": [
    "from statsmodels.multivariate.pca import PCA"
   ]
  },
  {
   "cell_type": "markdown",
   "metadata": {},
   "source": [
    "Use `numpy` to find to transpose the standardized pet array. This will help us compute the projection."
   ]
  },
  {
   "cell_type": "code",
   "execution_count": 77,
   "metadata": {},
   "outputs": [],
   "source": [
    "x = np.random.randn(100)[:, None]\n",
    "x = x + np.random.randn(100, 100)\n",
    "pca = PCA(x)"
   ]
  },
  {
   "cell_type": "markdown",
   "metadata": {},
   "source": [
    "Find the dot product of the transposed standardized pet matrix and the `factors` of the `PCA` model found above. This will be the projection onto 2 dimensions. This means that each cat and dog image will now only have two columns instead of 4096."
   ]
  },
  {
   "cell_type": "code",
   "execution_count": 80,
   "metadata": {},
   "outputs": [
    {
     "data": {
      "text/html": [
       "<style>#sk-container-id-1 {color: black;background-color: white;}#sk-container-id-1 pre{padding: 0;}#sk-container-id-1 div.sk-toggleable {background-color: white;}#sk-container-id-1 label.sk-toggleable__label {cursor: pointer;display: block;width: 100%;margin-bottom: 0;padding: 0.3em;box-sizing: border-box;text-align: center;}#sk-container-id-1 label.sk-toggleable__label-arrow:before {content: \"▸\";float: left;margin-right: 0.25em;color: #696969;}#sk-container-id-1 label.sk-toggleable__label-arrow:hover:before {color: black;}#sk-container-id-1 div.sk-estimator:hover label.sk-toggleable__label-arrow:before {color: black;}#sk-container-id-1 div.sk-toggleable__content {max-height: 0;max-width: 0;overflow: hidden;text-align: left;background-color: #f0f8ff;}#sk-container-id-1 div.sk-toggleable__content pre {margin: 0.2em;color: black;border-radius: 0.25em;background-color: #f0f8ff;}#sk-container-id-1 input.sk-toggleable__control:checked~div.sk-toggleable__content {max-height: 200px;max-width: 100%;overflow: auto;}#sk-container-id-1 input.sk-toggleable__control:checked~label.sk-toggleable__label-arrow:before {content: \"▾\";}#sk-container-id-1 div.sk-estimator input.sk-toggleable__control:checked~label.sk-toggleable__label {background-color: #d4ebff;}#sk-container-id-1 div.sk-label input.sk-toggleable__control:checked~label.sk-toggleable__label {background-color: #d4ebff;}#sk-container-id-1 input.sk-hidden--visually {border: 0;clip: rect(1px 1px 1px 1px);clip: rect(1px, 1px, 1px, 1px);height: 1px;margin: -1px;overflow: hidden;padding: 0;position: absolute;width: 1px;}#sk-container-id-1 div.sk-estimator {font-family: monospace;background-color: #f0f8ff;border: 1px dotted black;border-radius: 0.25em;box-sizing: border-box;margin-bottom: 0.5em;}#sk-container-id-1 div.sk-estimator:hover {background-color: #d4ebff;}#sk-container-id-1 div.sk-parallel-item::after {content: \"\";width: 100%;border-bottom: 1px solid gray;flex-grow: 1;}#sk-container-id-1 div.sk-label:hover label.sk-toggleable__label {background-color: #d4ebff;}#sk-container-id-1 div.sk-serial::before {content: \"\";position: absolute;border-left: 1px solid gray;box-sizing: border-box;top: 0;bottom: 0;left: 50%;z-index: 0;}#sk-container-id-1 div.sk-serial {display: flex;flex-direction: column;align-items: center;background-color: white;padding-right: 0.2em;padding-left: 0.2em;position: relative;}#sk-container-id-1 div.sk-item {position: relative;z-index: 1;}#sk-container-id-1 div.sk-parallel {display: flex;align-items: stretch;justify-content: center;background-color: white;position: relative;}#sk-container-id-1 div.sk-item::before, #sk-container-id-1 div.sk-parallel-item::before {content: \"\";position: absolute;border-left: 1px solid gray;box-sizing: border-box;top: 0;bottom: 0;left: 50%;z-index: -1;}#sk-container-id-1 div.sk-parallel-item {display: flex;flex-direction: column;z-index: 1;position: relative;background-color: white;}#sk-container-id-1 div.sk-parallel-item:first-child::after {align-self: flex-end;width: 50%;}#sk-container-id-1 div.sk-parallel-item:last-child::after {align-self: flex-start;width: 50%;}#sk-container-id-1 div.sk-parallel-item:only-child::after {width: 0;}#sk-container-id-1 div.sk-dashed-wrapped {border: 1px dashed gray;margin: 0 0.4em 0.5em 0.4em;box-sizing: border-box;padding-bottom: 0.4em;background-color: white;}#sk-container-id-1 div.sk-label label {font-family: monospace;font-weight: bold;display: inline-block;line-height: 1.2em;}#sk-container-id-1 div.sk-label-container {text-align: center;}#sk-container-id-1 div.sk-container {/* jupyter's `normalize.less` sets `[hidden] { display: none; }` but bootstrap.min.css set `[hidden] { display: none !important; }` so we also need the `!important` here to be able to override the default hidden behavior on the sphinx rendered scikit-learn.org. See: https://github.com/scikit-learn/scikit-learn/issues/21755 */display: inline-block !important;position: relative;}#sk-container-id-1 div.sk-text-repr-fallback {display: none;}</style><div id=\"sk-container-id-1\" class=\"sk-top-container\"><div class=\"sk-text-repr-fallback\"><pre>PCA(n_components=2)</pre><b>In a Jupyter environment, please rerun this cell to show the HTML representation or trust the notebook. <br />On GitHub, the HTML representation is unable to render, please try loading this page with nbviewer.org.</b></div><div class=\"sk-container\" hidden><div class=\"sk-item\"><div class=\"sk-estimator sk-toggleable\"><input class=\"sk-toggleable__control sk-hidden--visually\" id=\"sk-estimator-id-1\" type=\"checkbox\" checked><label for=\"sk-estimator-id-1\" class=\"sk-toggleable__label sk-toggleable__label-arrow\">PCA</label><div class=\"sk-toggleable__content\"><pre>PCA(n_components=2)</pre></div></div></div></div></div>"
      ],
      "text/plain": [
       "PCA(n_components=2)"
      ]
     },
     "execution_count": 80,
     "metadata": {},
     "output_type": "execute_result"
    }
   ],
   "source": [
    "from sklearn.decomposition import PCA\n",
    "pca = PCA(n_components=2)\n",
    "pca.fit(X)\n"
   ]
  },
  {
   "cell_type": "code",
   "execution_count": 81,
   "metadata": {},
   "outputs": [
    {
     "name": "stdout",
     "output_type": "stream",
     "text": [
      "[0.18931712 0.124659  ]\n"
     ]
    }
   ],
   "source": [
    "#extra\n",
    "print(pca.explained_variance_ratio_)"
   ]
  },
  {
   "cell_type": "code",
   "execution_count": 82,
   "metadata": {},
   "outputs": [
    {
     "name": "stdout",
     "output_type": "stream",
     "text": [
      "[20607.84512546 16722.43240495]\n"
     ]
    }
   ],
   "source": [
    "#extra\n",
    "print(pca.singular_values_)"
   ]
  },
  {
   "cell_type": "markdown",
   "metadata": {},
   "source": [
    "# Challenge 3 - Plotting the Data\n",
    "\n",
    "Now that we have reduced our cats and dogs arrays, we can easily plot the data in a way that the human eye can understand. We can look at this plot to see whether there are differences between the cat and dog images. \n",
    "\n",
    "In the cell below, turn the two dimensional projection into a pandas dataframe and name the columns `pc1`, and `pc2` respectively."
   ]
  },
  {
   "cell_type": "code",
   "execution_count": 83,
   "metadata": {},
   "outputs": [],
   "source": [
    "# Your code here:\n",
    "import pandas as pd"
   ]
  },
  {
   "cell_type": "code",
   "execution_count": 89,
   "metadata": {},
   "outputs": [
    {
     "data": {
      "text/html": [
       "<div>\n",
       "<style scoped>\n",
       "    .dataframe tbody tr th:only-of-type {\n",
       "        vertical-align: middle;\n",
       "    }\n",
       "\n",
       "    .dataframe tbody tr th {\n",
       "        vertical-align: top;\n",
       "    }\n",
       "\n",
       "    .dataframe thead th {\n",
       "        text-align: right;\n",
       "    }\n",
       "</style>\n",
       "<table border=\"1\" class=\"dataframe\">\n",
       "  <thead>\n",
       "    <tr style=\"text-align: right;\">\n",
       "      <th></th>\n",
       "      <th>pc1</th>\n",
       "      <th>pc2</th>\n",
       "      <th>pc1</th>\n",
       "      <th>pc2</th>\n",
       "      <th>pc1</th>\n",
       "      <th>pc2</th>\n",
       "      <th>pc1</th>\n",
       "      <th>pc2</th>\n",
       "      <th>pc1</th>\n",
       "      <th>pc2</th>\n",
       "      <th>...</th>\n",
       "      <th>pc1</th>\n",
       "      <th>pc2</th>\n",
       "      <th>pc1</th>\n",
       "      <th>pc2</th>\n",
       "      <th>pc1</th>\n",
       "      <th>pc2</th>\n",
       "      <th>pc1</th>\n",
       "      <th>pc2</th>\n",
       "      <th>pc1</th>\n",
       "      <th>pc2</th>\n",
       "    </tr>\n",
       "  </thead>\n",
       "  <tbody>\n",
       "    <tr>\n",
       "      <th>0</th>\n",
       "      <td>-0.437358</td>\n",
       "      <td>1.290517</td>\n",
       "      <td>0.511427</td>\n",
       "      <td>0.044332</td>\n",
       "      <td>-1.139977</td>\n",
       "      <td>0.000547</td>\n",
       "      <td>0.596032</td>\n",
       "      <td>2.664650</td>\n",
       "      <td>0.258723</td>\n",
       "      <td>0.260967</td>\n",
       "      <td>...</td>\n",
       "      <td>1.523879</td>\n",
       "      <td>1.110212</td>\n",
       "      <td>1.634142</td>\n",
       "      <td>1.958101</td>\n",
       "      <td>1.723468</td>\n",
       "      <td>-0.484631</td>\n",
       "      <td>0.478861</td>\n",
       "      <td>2.147923</td>\n",
       "      <td>1.931770</td>\n",
       "      <td>0.651300</td>\n",
       "    </tr>\n",
       "    <tr>\n",
       "      <th>1</th>\n",
       "      <td>1.138270</td>\n",
       "      <td>-0.965873</td>\n",
       "      <td>-2.134932</td>\n",
       "      <td>-0.513542</td>\n",
       "      <td>-2.283144</td>\n",
       "      <td>-1.247071</td>\n",
       "      <td>-0.983336</td>\n",
       "      <td>-0.226178</td>\n",
       "      <td>-2.819795</td>\n",
       "      <td>0.326365</td>\n",
       "      <td>...</td>\n",
       "      <td>-2.345990</td>\n",
       "      <td>-1.525427</td>\n",
       "      <td>-0.348776</td>\n",
       "      <td>-1.133629</td>\n",
       "      <td>-3.332228</td>\n",
       "      <td>1.998233</td>\n",
       "      <td>-0.518787</td>\n",
       "      <td>-0.366352</td>\n",
       "      <td>-1.021805</td>\n",
       "      <td>0.205544</td>\n",
       "    </tr>\n",
       "    <tr>\n",
       "      <th>2</th>\n",
       "      <td>-0.201179</td>\n",
       "      <td>0.098477</td>\n",
       "      <td>-0.479558</td>\n",
       "      <td>-1.019767</td>\n",
       "      <td>-2.119679</td>\n",
       "      <td>-0.955619</td>\n",
       "      <td>-0.437190</td>\n",
       "      <td>-0.341428</td>\n",
       "      <td>0.432611</td>\n",
       "      <td>-0.397840</td>\n",
       "      <td>...</td>\n",
       "      <td>-1.155137</td>\n",
       "      <td>-3.179305</td>\n",
       "      <td>0.387125</td>\n",
       "      <td>-2.072877</td>\n",
       "      <td>-1.167308</td>\n",
       "      <td>-0.996315</td>\n",
       "      <td>-0.819359</td>\n",
       "      <td>-1.649981</td>\n",
       "      <td>-1.145152</td>\n",
       "      <td>0.348002</td>\n",
       "    </tr>\n",
       "    <tr>\n",
       "      <th>3</th>\n",
       "      <td>0.581872</td>\n",
       "      <td>0.800243</td>\n",
       "      <td>0.969557</td>\n",
       "      <td>2.785288</td>\n",
       "      <td>0.126539</td>\n",
       "      <td>1.692553</td>\n",
       "      <td>-0.171553</td>\n",
       "      <td>0.798787</td>\n",
       "      <td>-0.278546</td>\n",
       "      <td>1.813436</td>\n",
       "      <td>...</td>\n",
       "      <td>0.963982</td>\n",
       "      <td>1.057341</td>\n",
       "      <td>2.647685</td>\n",
       "      <td>1.234993</td>\n",
       "      <td>-1.412386</td>\n",
       "      <td>3.292077</td>\n",
       "      <td>1.519594</td>\n",
       "      <td>2.767031</td>\n",
       "      <td>0.871044</td>\n",
       "      <td>0.310506</td>\n",
       "    </tr>\n",
       "    <tr>\n",
       "      <th>4</th>\n",
       "      <td>-2.300485</td>\n",
       "      <td>-1.325663</td>\n",
       "      <td>0.287979</td>\n",
       "      <td>0.976711</td>\n",
       "      <td>1.231229</td>\n",
       "      <td>1.791799</td>\n",
       "      <td>-0.595873</td>\n",
       "      <td>1.177040</td>\n",
       "      <td>0.357614</td>\n",
       "      <td>-0.702410</td>\n",
       "      <td>...</td>\n",
       "      <td>-0.302027</td>\n",
       "      <td>0.096741</td>\n",
       "      <td>-0.461720</td>\n",
       "      <td>-0.227632</td>\n",
       "      <td>0.800693</td>\n",
       "      <td>-0.695437</td>\n",
       "      <td>0.153148</td>\n",
       "      <td>-0.267935</td>\n",
       "      <td>0.026202</td>\n",
       "      <td>1.161497</td>\n",
       "    </tr>\n",
       "    <tr>\n",
       "      <th>...</th>\n",
       "      <td>...</td>\n",
       "      <td>...</td>\n",
       "      <td>...</td>\n",
       "      <td>...</td>\n",
       "      <td>...</td>\n",
       "      <td>...</td>\n",
       "      <td>...</td>\n",
       "      <td>...</td>\n",
       "      <td>...</td>\n",
       "      <td>...</td>\n",
       "      <td>...</td>\n",
       "      <td>...</td>\n",
       "      <td>...</td>\n",
       "      <td>...</td>\n",
       "      <td>...</td>\n",
       "      <td>...</td>\n",
       "      <td>...</td>\n",
       "      <td>...</td>\n",
       "      <td>...</td>\n",
       "      <td>...</td>\n",
       "      <td>...</td>\n",
       "    </tr>\n",
       "    <tr>\n",
       "      <th>95</th>\n",
       "      <td>1.811021</td>\n",
       "      <td>0.249612</td>\n",
       "      <td>2.392355</td>\n",
       "      <td>1.621131</td>\n",
       "      <td>1.466781</td>\n",
       "      <td>0.829431</td>\n",
       "      <td>0.262024</td>\n",
       "      <td>0.834264</td>\n",
       "      <td>2.471171</td>\n",
       "      <td>2.189011</td>\n",
       "      <td>...</td>\n",
       "      <td>2.414579</td>\n",
       "      <td>2.174726</td>\n",
       "      <td>1.449855</td>\n",
       "      <td>2.719603</td>\n",
       "      <td>0.919780</td>\n",
       "      <td>1.038086</td>\n",
       "      <td>2.764368</td>\n",
       "      <td>0.772648</td>\n",
       "      <td>1.008472</td>\n",
       "      <td>2.558038</td>\n",
       "    </tr>\n",
       "    <tr>\n",
       "      <th>96</th>\n",
       "      <td>-0.238576</td>\n",
       "      <td>0.609684</td>\n",
       "      <td>2.408226</td>\n",
       "      <td>0.773532</td>\n",
       "      <td>-0.640118</td>\n",
       "      <td>1.159919</td>\n",
       "      <td>-0.735214</td>\n",
       "      <td>-0.166594</td>\n",
       "      <td>0.188941</td>\n",
       "      <td>-0.013534</td>\n",
       "      <td>...</td>\n",
       "      <td>-0.422938</td>\n",
       "      <td>1.620670</td>\n",
       "      <td>0.518870</td>\n",
       "      <td>0.480584</td>\n",
       "      <td>-1.421698</td>\n",
       "      <td>0.692429</td>\n",
       "      <td>0.072525</td>\n",
       "      <td>-0.356713</td>\n",
       "      <td>-0.148805</td>\n",
       "      <td>1.177832</td>\n",
       "    </tr>\n",
       "    <tr>\n",
       "      <th>97</th>\n",
       "      <td>0.566763</td>\n",
       "      <td>0.590487</td>\n",
       "      <td>-0.581761</td>\n",
       "      <td>0.104871</td>\n",
       "      <td>0.373293</td>\n",
       "      <td>1.230506</td>\n",
       "      <td>-2.926138</td>\n",
       "      <td>1.014488</td>\n",
       "      <td>-0.484917</td>\n",
       "      <td>-0.059281</td>\n",
       "      <td>...</td>\n",
       "      <td>0.948443</td>\n",
       "      <td>0.004279</td>\n",
       "      <td>-0.217545</td>\n",
       "      <td>-0.247162</td>\n",
       "      <td>1.735350</td>\n",
       "      <td>0.244003</td>\n",
       "      <td>1.126859</td>\n",
       "      <td>0.799959</td>\n",
       "      <td>-0.295721</td>\n",
       "      <td>1.825675</td>\n",
       "    </tr>\n",
       "    <tr>\n",
       "      <th>98</th>\n",
       "      <td>-0.356543</td>\n",
       "      <td>-0.018993</td>\n",
       "      <td>-0.330169</td>\n",
       "      <td>-0.019038</td>\n",
       "      <td>-1.850712</td>\n",
       "      <td>0.087804</td>\n",
       "      <td>0.077471</td>\n",
       "      <td>0.047025</td>\n",
       "      <td>1.929911</td>\n",
       "      <td>0.487250</td>\n",
       "      <td>...</td>\n",
       "      <td>-0.123934</td>\n",
       "      <td>0.578338</td>\n",
       "      <td>0.112666</td>\n",
       "      <td>-1.407656</td>\n",
       "      <td>-0.818292</td>\n",
       "      <td>-0.197755</td>\n",
       "      <td>0.505281</td>\n",
       "      <td>-0.048904</td>\n",
       "      <td>-0.301376</td>\n",
       "      <td>1.246569</td>\n",
       "    </tr>\n",
       "    <tr>\n",
       "      <th>99</th>\n",
       "      <td>-0.433148</td>\n",
       "      <td>-0.413469</td>\n",
       "      <td>-0.782893</td>\n",
       "      <td>-0.655434</td>\n",
       "      <td>0.980024</td>\n",
       "      <td>-0.338578</td>\n",
       "      <td>1.881942</td>\n",
       "      <td>-0.182976</td>\n",
       "      <td>-1.611682</td>\n",
       "      <td>0.693691</td>\n",
       "      <td>...</td>\n",
       "      <td>-0.883914</td>\n",
       "      <td>-0.503417</td>\n",
       "      <td>-1.599740</td>\n",
       "      <td>-1.168166</td>\n",
       "      <td>-0.635156</td>\n",
       "      <td>1.363124</td>\n",
       "      <td>-1.168880</td>\n",
       "      <td>-0.354139</td>\n",
       "      <td>-0.376447</td>\n",
       "      <td>-0.106668</td>\n",
       "    </tr>\n",
       "  </tbody>\n",
       "</table>\n",
       "<p>100 rows × 100 columns</p>\n",
       "</div>"
      ],
      "text/plain": [
       "         pc1       pc2       pc1       pc2       pc1       pc2       pc1  \\\n",
       "0  -0.437358  1.290517  0.511427  0.044332 -1.139977  0.000547  0.596032   \n",
       "1   1.138270 -0.965873 -2.134932 -0.513542 -2.283144 -1.247071 -0.983336   \n",
       "2  -0.201179  0.098477 -0.479558 -1.019767 -2.119679 -0.955619 -0.437190   \n",
       "3   0.581872  0.800243  0.969557  2.785288  0.126539  1.692553 -0.171553   \n",
       "4  -2.300485 -1.325663  0.287979  0.976711  1.231229  1.791799 -0.595873   \n",
       "..       ...       ...       ...       ...       ...       ...       ...   \n",
       "95  1.811021  0.249612  2.392355  1.621131  1.466781  0.829431  0.262024   \n",
       "96 -0.238576  0.609684  2.408226  0.773532 -0.640118  1.159919 -0.735214   \n",
       "97  0.566763  0.590487 -0.581761  0.104871  0.373293  1.230506 -2.926138   \n",
       "98 -0.356543 -0.018993 -0.330169 -0.019038 -1.850712  0.087804  0.077471   \n",
       "99 -0.433148 -0.413469 -0.782893 -0.655434  0.980024 -0.338578  1.881942   \n",
       "\n",
       "         pc2       pc1       pc2  ...       pc1       pc2       pc1       pc2  \\\n",
       "0   2.664650  0.258723  0.260967  ...  1.523879  1.110212  1.634142  1.958101   \n",
       "1  -0.226178 -2.819795  0.326365  ... -2.345990 -1.525427 -0.348776 -1.133629   \n",
       "2  -0.341428  0.432611 -0.397840  ... -1.155137 -3.179305  0.387125 -2.072877   \n",
       "3   0.798787 -0.278546  1.813436  ...  0.963982  1.057341  2.647685  1.234993   \n",
       "4   1.177040  0.357614 -0.702410  ... -0.302027  0.096741 -0.461720 -0.227632   \n",
       "..       ...       ...       ...  ...       ...       ...       ...       ...   \n",
       "95  0.834264  2.471171  2.189011  ...  2.414579  2.174726  1.449855  2.719603   \n",
       "96 -0.166594  0.188941 -0.013534  ... -0.422938  1.620670  0.518870  0.480584   \n",
       "97  1.014488 -0.484917 -0.059281  ...  0.948443  0.004279 -0.217545 -0.247162   \n",
       "98  0.047025  1.929911  0.487250  ... -0.123934  0.578338  0.112666 -1.407656   \n",
       "99 -0.182976 -1.611682  0.693691  ... -0.883914 -0.503417 -1.599740 -1.168166   \n",
       "\n",
       "         pc1       pc2       pc1       pc2       pc1       pc2  \n",
       "0   1.723468 -0.484631  0.478861  2.147923  1.931770  0.651300  \n",
       "1  -3.332228  1.998233 -0.518787 -0.366352 -1.021805  0.205544  \n",
       "2  -1.167308 -0.996315 -0.819359 -1.649981 -1.145152  0.348002  \n",
       "3  -1.412386  3.292077  1.519594  2.767031  0.871044  0.310506  \n",
       "4   0.800693 -0.695437  0.153148 -0.267935  0.026202  1.161497  \n",
       "..       ...       ...       ...       ...       ...       ...  \n",
       "95  0.919780  1.038086  2.764368  0.772648  1.008472  2.558038  \n",
       "96 -1.421698  0.692429  0.072525 -0.356713 -0.148805  1.177832  \n",
       "97  1.735350  0.244003  1.126859  0.799959 -0.295721  1.825675  \n",
       "98 -0.818292 -0.197755  0.505281 -0.048904 -0.301376  1.246569  \n",
       "99 -0.635156  1.363124 -1.168880 -0.354139 -0.376447 -0.106668  \n",
       "\n",
       "[100 rows x 100 columns]"
      ]
     },
     "execution_count": 89,
     "metadata": {},
     "output_type": "execute_result"
    }
   ],
   "source": [
    "df = pd.DataFrame(x, columns = ['pc1','pc2']*50)\n",
    "df"
   ]
  },
  {
   "cell_type": "markdown",
   "metadata": {},
   "source": [
    "Create a labels list. This list will be of size 160. The first 80 elements in the list will be the word `blue`, and the last 80 elements will be `red`. This will ensure that all dog observations will be colored in blue and all cats will be colored in red. Name this list `colors`."
   ]
  },
  {
   "cell_type": "code",
   "execution_count": 16,
   "metadata": {},
   "outputs": [],
   "source": [
    "#don't know. this is 100*100\n"
   ]
  },
  {
   "cell_type": "markdown",
   "metadata": {},
   "source": [
    "Create a scatter plot of `pc1` and `pc2` below. Use the `colors` list above to color the observations by setting `c=colors`."
   ]
  },
  {
   "cell_type": "code",
   "execution_count": 90,
   "metadata": {
    "collapsed": true
   },
   "outputs": [
    {
     "data": {
      "image/png": "[encoded data removed]",
      "text/plain": [
       "<Figure size 640x480 with 1 Axes>"
      ]
     },
     "metadata": {},
     "output_type": "display_data"
    }
   ],
   "source": [
    "import matplotlib.pyplot as plt\n",
    "\n",
    "plt.scatter(pc1, pc2)\n",
    "plt.show()\n"
   ]
  },
  {
   "cell_type": "markdown",
   "metadata": {},
   "source": [
    "Do you see a clear separation between cats and dogs? Write your answer below."
   ]
  },
  {
   "cell_type": "code",
   "execution_count": 18,
   "metadata": {},
   "outputs": [],
   "source": [
    "# Your conclusions here:\n",
    "\n"
   ]
  },
  {
   "cell_type": "code",
   "execution_count": null,
   "metadata": {},
   "outputs": [],
   "source": []
  }
 ],
 "metadata": {
  "kernelspec": {
   "display_name": "Python 3 (ipykernel)",
   "language": "python",
   "name": "python3"
  },
  "language_info": {
   "codemirror_mode": {
    "name": "ipython",
    "version": 3
   },
   "file_extension": ".py",
   "mimetype": "text/x-python",
   "name": "python",
   "nbconvert_exporter": "python",
   "pygments_lexer": "ipython3",
   "version": "3.10.9"
  }
 },
 "nbformat": 4,
 "nbformat_minor": 2
}
