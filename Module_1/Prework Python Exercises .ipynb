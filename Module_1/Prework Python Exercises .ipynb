{
 "cells": [
  {
   "cell_type": "markdown",
   "id": "0ceaccb7",
   "metadata": {},
   "source": [
    "# 1.1 For the following variables, use Python to check the data type for the variables."
   ]
  },
  {
   "cell_type": "code",
   "execution_count": 2,
   "id": "341eaf01",
   "metadata": {},
   "outputs": [
    {
     "data": {
      "text/plain": [
       "int"
      ]
     },
     "execution_count": 2,
     "metadata": {},
     "output_type": "execute_result"
    }
   ],
   "source": [
    "x1 = 1.1\n",
    "type(x1)\n",
    " \n",
    "x2 = \"Ironhack\"\n",
    "type(x2)\n",
    " \n",
    "x3 = \"1.1\"\n",
    "type(x3)\n",
    " \n",
    "x4 = True\n",
    "type(x4)\n",
    " \n",
    "x5 = \"True\"\n",
    "type(x5)\n",
    " \n",
    "x6 = -1\n",
    "type(x6)"
   ]
  },
  {
   "cell_type": "markdown",
   "id": "e62f21c7",
   "metadata": {},
   "source": [
    "# 1.2 What is the difference between variables x1 and x3?\n",
    "\n",
    "Even though they both have the value 1.1 stored in the variables, x1 is a float while x3 is a string (as it is encapsulated in double quotes). This being said, we can perform mathematical operations on x1 but not on x3."
   ]
  },
  {
   "cell_type": "markdown",
   "id": "b4c6cf7f",
   "metadata": {},
   "source": [
    "# 1.3 What happens if you subtract x3 from x1?\n",
    "\n",
    "You will get an error because you can’t subtract variables of a different type."
   ]
  },
  {
   "cell_type": "markdown",
   "id": "4c87ac7f",
   "metadata": {},
   "source": [
    "# 1.4 What is the difference between variables x4 and x5?\n",
    "\n",
    "Even though they both have the value stored in the variables, x4 is a Boolean while x5 is a string (as it is encapsulated in double quotes). Booleans and strings have different operators and functions that can be used with them."
   ]
  },
  {
   "cell_type": "markdown",
   "id": "8bb6fe4d",
   "metadata": {},
   "source": [
    "# 1.5 What happens if you subtract x5 from x4?\n",
    "\n",
    "You will get an error because you can’t subtract variables of a different type."
   ]
  },
  {
   "cell_type": "markdown",
   "id": "054e911e",
   "metadata": {},
   "source": [
    "# Exercise - Operators\n",
    "\n",
    "2.1 In this problem we will show you how to take a user input. To gather input from the user, we can use the function input(message), where “message” is a meaningful message of type “str” to be displayed to the user.\n",
    "\n",
    "Use the code and then answer the questions that follow:"
   ]
  },
  {
   "cell_type": "code",
   "execution_count": 3,
   "id": "84b8b1c1",
   "metadata": {},
   "outputs": [
    {
     "name": "stdout",
     "output_type": "stream",
     "text": [
      "Please enter an integer number: 1\n",
      "Please enter another integer number: 2\n"
     ]
    }
   ],
   "source": [
    "x1 = input(\"Please enter an integer number: \")\n",
    " \n",
    "x2 = input(\"Please enter another integer number: \")"
   ]
  },
  {
   "cell_type": "markdown",
   "id": "94a0b1fb",
   "metadata": {},
   "source": [
    "# Question 1: Print the values of the two variables? \n",
    "\n",
    "As you would notice, data type of x1 and x2 is string. Even though we entered integers, the input function converts them into string by default. Now we do some data type conversion from string to integers:"
   ]
  },
  {
   "cell_type": "code",
   "execution_count": 5,
   "id": "fbd4bcde",
   "metadata": {},
   "outputs": [],
   "source": [
    "x1 = int(x1) # This converts string into integer and re-initializes `x1`\n",
    "x2 = int(x2) # This converts string into integer and re-initializes `x2`\n"
   ]
  },
  {
   "cell_type": "markdown",
   "id": "789bfc94",
   "metadata": {},
   "source": [
    "# Question 2: What is the data type of x1 and x2?\n",
    "\n",
    "Now perform simple comparisons between x1 and x2:\n",
    "\n",
    "Check if the two variables are equal?\n",
    "\n",
    "Check if x1 is greater than x2?\n",
    "\n",
    "Check if x2 is greater than x1?\n",
    "\n",
    "Check if x1 is not equal to x2?\n",
    "\n",
    "Store the difference between the two variables x1 and x2 in another variable x3 (subtract the smaller number from the larger number).\n",
    "\n",
    "Increment the smaller of the two variables (x1 and x2) with the difference.Use the shorthand addition operator for the same. Again check if x1 and x2 are equal or not?"
   ]
  },
  {
   "cell_type": "code",
   "execution_count": 6,
   "id": "eed20694",
   "metadata": {
    "collapsed": true
   },
   "outputs": [
    {
     "ename": "SyntaxError",
     "evalue": "invalid syntax. Perhaps you forgot a comma? (3909444247.py, line 3)",
     "output_type": "error",
     "traceback": [
      "\u001b[1;36m  Cell \u001b[1;32mIn[6], line 3\u001b[1;36m\u001b[0m\n\u001b[1;33m    print(type(x1)\u001b[0m\n\u001b[1;37m          ^\u001b[0m\n\u001b[1;31mSyntaxError\u001b[0m\u001b[1;31m:\u001b[0m invalid syntax. Perhaps you forgot a comma?\n"
     ]
    }
   ],
   "source": [
    "x1 = input(\"Please enter an integer number: \")\n",
    "print(x1)\n",
    "print(type(x1)\n",
    " \n",
    "x2 = input(\"Please enter another integer number: \")\n",
    "print(x2)\n",
    "print(type(x2)\n",
    " \n",
    "# Data type for these variables is string even though integers were entered.\n",
    " \n",
    "x1 = int(x1)  # This converts string into integer and re-initializes `x1`\n",
    "x2 = int(x2)  # This converts string into integer and re-initializes `x2`\n",
    " \n",
    "print(x1)\n",
    "print(type(x1)\n",
    " \n",
    "print(x2)\n",
    "print(type(x2)\n",
    " \n",
    "# Comparing the two variables now\n",
    "x1 == x2\n",
    "x1 > x2\n",
    "x1 < x2\n",
    "x1!=x2"
   ]
  },
  {
   "cell_type": "code",
   "execution_count": 7,
   "id": "32bdbcde",
   "metadata": {},
   "outputs": [
    {
     "data": {
      "text/plain": [
       "True"
      ]
     },
     "execution_count": 7,
     "metadata": {},
     "output_type": "execute_result"
    }
   ],
   "source": [
    "x3 = x2-x1\n",
    "x1 = x1+x3 # this is the same as x1+=x3\n",
    " \n",
    "x1 == x2"
   ]
  },
  {
   "cell_type": "markdown",
   "id": "b72a6b7b",
   "metadata": {},
   "source": [
    " 2.2 In the lesson, we talked about math library in Python. Here is a link to the math library documentation. Go through the documentation and try any 3 or more functions on a numerical variable that were not described in the lesson."
   ]
  },
  {
   "cell_type": "code",
   "execution_count": 8,
   "id": "75759bc4",
   "metadata": {},
   "outputs": [
    {
     "data": {
      "text/plain": [
       "16.0"
      ]
     },
     "execution_count": 8,
     "metadata": {},
     "output_type": "execute_result"
    }
   ],
   "source": [
    "import math\n",
    " \n",
    "x = 2.123\n",
    "math.ceil(x)\n",
    "math.factorial(4)  # This is equivalent to 4*3*2*1\n",
    "math.exp(1)  # Raises the argument in the power of exponent\n",
    "math.log(10) # natural log - base `e`\n",
    "math.log10(10) # Log to the base of 10\n",
    "math.pow(2,4) # raises 2 to the power of 4"
   ]
  },
  {
   "cell_type": "markdown",
   "id": "d0ceebf3",
   "metadata": {},
   "source": [
    "# Lesson: Conditional statements\n",
    "\n",
    "#Exercise - Conditional Statements\n",
    "\n",
    "1.1 Ask the user to input a number (should be integer). Check if the number is even or odd. Remember that 0 is neither even nor odd."
   ]
  },
  {
   "cell_type": "code",
   "execution_count": 9,
   "id": "a6dca91e",
   "metadata": {},
   "outputs": [
    {
     "name": "stdout",
     "output_type": "stream",
     "text": [
      "Please input an integer: 1\n",
      "a is not even\n"
     ]
    }
   ],
   "source": [
    "a = input(\"Please input an integer: \")\n",
    "a = int(a)\n",
    "if a == 0:\n",
    "    print('a is zero')\n",
    "elif a%2 ==0:\n",
    "    print('a is even')\n",
    "else:\n",
    "    print('a is not even')"
   ]
  },
  {
   "cell_type": "markdown",
   "id": "b7c78ba3",
   "metadata": {},
   "source": [
    "1.2 Ask the user to input a number (should be integer). Check whether the number is zero, positive or negative."
   ]
  },
  {
   "cell_type": "code",
   "execution_count": 11,
   "id": "f30d50f8",
   "metadata": {},
   "outputs": [
    {
     "name": "stdout",
     "output_type": "stream",
     "text": [
      "Please input an integer: 1\n",
      "a is positive\n"
     ]
    }
   ],
   "source": [
    "a = input(\"Please input an integer: \")\n",
    "a = int(a)\n",
    " \n",
    "if a == 0:\n",
    "    print('a is zero')\n",
    "elif a > 0:\n",
    "    print('a is positive')\n",
    "else:\n",
    "    print('a is negative')"
   ]
  },
  {
   "cell_type": "markdown",
   "id": "bb04870b",
   "metadata": {},
   "source": [
    " 1.3 A school has following grading system:\n",
    "\n",
    "a. Below 25 - F\n",
    "b. 25 to 45 - E\n",
    "c. 45 to 60 - D\n",
    "d. 60 to 75 - C\n",
    "e. 75 to 90 - B\n",
    "f. Above 90 - A\n",
    "\n",
    "Ask user to enter marks (assuming the marks are between 0 and 100) and print the corresponding grade."
   ]
  },
  {
   "cell_type": "code",
   "execution_count": 12,
   "id": "c612c71c",
   "metadata": {},
   "outputs": [
    {
     "name": "stdout",
     "output_type": "stream",
     "text": [
      "Please input the marks (between 0 and 100): 80\n",
      "Grade: B\n"
     ]
    }
   ],
   "source": [
    "marks = input(\"Please input the marks (between 0 and 100): \")\n",
    "marks = int(marks)\n",
    " \n",
    "if marks > 90:\n",
    "    print(\"Grade: A\")\n",
    "elif marks > 75 and marks <=90:\n",
    "    print(\"Grade: B\")\n",
    "elif marks > 60 and marks <=75:\n",
    "    print(\"Grade: C\")\n",
    "elif marks > 45 and marks <=60:\n",
    "    print(\"Grade: D\")\n",
    "elif marks > 25 and marks <=45:\n",
    "    print(\"Grade: E\")\n",
    "else:\n",
    "    print(\"Grade: F\")"
   ]
  },
  {
   "cell_type": "markdown",
   "id": "61d3dbf4",
   "metadata": {},
   "source": [
    "1.4 In the problem 3.1, we asked you to write a code to enter an integer and then check if that number is even or not. What if the user inputs a letter or some symbol instead? If we don’t handle this properly, code will break. We should prompt the user if the input entered was incorrect.\n",
    "\n",
    "Now try and make this code more robust by first checking if the entered input is a number or not. If the number entered is an integer, only then check if it is even or not."
   ]
  },
  {
   "cell_type": "code",
   "execution_count": 13,
   "id": "83a0212a",
   "metadata": {},
   "outputs": [
    {
     "name": "stdout",
     "output_type": "stream",
     "text": [
      "Please input an integer: 2\n",
      "a is even\n"
     ]
    }
   ],
   "source": [
    "a = input(\"Please input an integer: \")\n",
    " \n",
    "if a.isdigit():\n",
    "    a = int(a)\n",
    " \n",
    "    if a == 0:\n",
    "        print('a is zero')\n",
    "    elif a%2 ==0:\n",
    "        print('a is even')\n",
    "    else:\n",
    "        print('a is not even')\n",
    "else:\n",
    "    print(\"Input was not an integer\")"
   ]
  },
  {
   "cell_type": "markdown",
   "id": "e8b0b619",
   "metadata": {},
   "source": [
    "# Lesson: Data structures - Lists\n",
    "#Exercise - Lists\n",
    "1.1 Given the list:"
   ]
  },
  {
   "cell_type": "code",
   "execution_count": 14,
   "id": "73d656f2",
   "metadata": {},
   "outputs": [],
   "source": [
    "lst = [1,2,34,5,3,12,9, 8, 67, 89, 98, 90, 39, 21, 45, 46, 23, 13]\n"
   ]
  },
  {
   "cell_type": "markdown",
   "id": "b3791849",
   "metadata": {},
   "source": [
    " Answer the following questions:\n",
    "\n",
    "How many elements are in the list?\n",
    "Using indexes, find out which is the first element in the list?\n",
    "Using indexes, find out which is the last element in the list?\n",
    "What is the index of element 90 in the list?\n",
    "Which are the first 8 elements in the list?\n",
    "Append elements 100 and 110 to the list?"
   ]
  },
  {
   "cell_type": "code",
   "execution_count": 15,
   "id": "4399cb09",
   "metadata": {},
   "outputs": [
    {
     "data": {
      "text/plain": [
       "array([  1,   2,   3,   5,   8,   9,  12,  13,  21,  23,  34,  39,  45,\n",
       "        46,  67,  89,  90,  98, 100, 110])"
      ]
     },
     "execution_count": 15,
     "metadata": {},
     "output_type": "execute_result"
    }
   ],
   "source": [
    "lst = [1,2,34,5,3,12,9, 8, 67, 89, 98, 90, 39, 21, 45, 46, 23, 13]\n",
    " \n",
    "len(lst)\n",
    "lst[0]\n",
    "lst[len(lst)-1]\n",
    "lst.index(90)\n",
    "lst[:8]\n",
    "lst.append(100)\n",
    "lst.append(110)\n",
    " \n",
    "import numpy as np\n",
    " \n",
    "np.sort(lst)"
   ]
  },
  {
   "cell_type": "markdown",
   "id": "4d292093",
   "metadata": {},
   "source": [
    " 1.2 Can a list have two or more elements that are same? Try and test. Try to define a new list with a few similar values and see if it works."
   ]
  },
  {
   "cell_type": "code",
   "execution_count": 16,
   "id": "813fe652",
   "metadata": {},
   "outputs": [],
   "source": [
    "x = [1,2,1,1,1,3,3,3,2]"
   ]
  },
  {
   "cell_type": "markdown",
   "id": "7cefe8da",
   "metadata": {},
   "source": [
    "# Lesson: Data structures - Dictionaries\n",
    "#Exercise dictionaries\n",
    "1.1 You are given this dictionary."
   ]
  },
  {
   "cell_type": "code",
   "execution_count": 17,
   "id": "53e14526",
   "metadata": {},
   "outputs": [],
   "source": [
    "word_freq = {'love': 25, 'conversation': 1, 'every': 6, \"we're\": 1, 'plate': 1, 'sour': 1, 'jukebox': 1, 'now': 11, 'taxi': 1, 'fast': 1, 'bag': 1, 'man': 1, 'push': 3, 'baby': 14, 'going': 1, 'you': 16, \"don't\": 2, 'one': 1, 'mind': 2, 'backseat': 1, 'friends': 1, 'then': 3, 'know': 2}\n"
   ]
  },
  {
   "cell_type": "markdown",
   "id": "7a0470d7",
   "metadata": {},
   "source": [
    "# Answer the following questions:\n",
    "\n",
    "How many key-value pairs are in this dictionary?\n",
    "What keys are present in this list?\n",
    "What is the frequency of following words in the dictionary:\n",
    "friends\n",
    "taxi\n",
    "jukebox\n",
    "Is the word begin present in the dictionary?\n",
    "Add the following words and their frequencies to the dictionary:\n",
    "‘begin’: 1\n",
    "‘start’: 2\n",
    "‘over’: 1\n",
    "‘body’: 17\n",
    "Use the following code to convert the result from word_freq.keys() to a list: list(word_freq.keys())\n",
    "Store the results of the above code in a variable called word.\n",
    "What is the first word in the dictionary? What is the frequency of that word?\n",
    "What is the last word in the dictionary? What is the frequency of that word?"
   ]
  },
  {
   "cell_type": "code",
   "execution_count": 18,
   "id": "a3a68ffe",
   "metadata": {},
   "outputs": [
    {
     "ename": "KeyError",
     "evalue": "'begin'",
     "output_type": "error",
     "traceback": [
      "\u001b[1;31m---------------------------------------------------------------------------\u001b[0m",
      "\u001b[1;31mKeyError\u001b[0m                                  Traceback (most recent call last)",
      "Cell \u001b[1;32mIn[18], line 8\u001b[0m\n\u001b[0;32m      5\u001b[0m word_freq[\u001b[38;5;124m'\u001b[39m\u001b[38;5;124mtaxi\u001b[39m\u001b[38;5;124m'\u001b[39m]\n\u001b[0;32m      6\u001b[0m word_freq[\u001b[38;5;124m'\u001b[39m\u001b[38;5;124mjukebox\u001b[39m\u001b[38;5;124m'\u001b[39m]\n\u001b[1;32m----> 8\u001b[0m \u001b[43mword_freq\u001b[49m\u001b[43m[\u001b[49m\u001b[38;5;124;43m'\u001b[39;49m\u001b[38;5;124;43mbegin\u001b[39;49m\u001b[38;5;124;43m'\u001b[39;49m\u001b[43m]\u001b[49m \u001b[38;5;66;03m# This would give an error\u001b[39;00m\n\u001b[0;32m     10\u001b[0m word_freq[\u001b[38;5;124m'\u001b[39m\u001b[38;5;124mbegin\u001b[39m\u001b[38;5;124m'\u001b[39m] \u001b[38;5;241m=\u001b[39m \u001b[38;5;241m1\u001b[39m\n\u001b[0;32m     11\u001b[0m word_freq[\u001b[38;5;124m'\u001b[39m\u001b[38;5;124mstart\u001b[39m\u001b[38;5;124m'\u001b[39m] \u001b[38;5;241m=\u001b[39m \u001b[38;5;241m2\u001b[39m\n",
      "\u001b[1;31mKeyError\u001b[0m: 'begin'"
     ]
    }
   ],
   "source": [
    "len(word_freq)\n",
    "word_freq.keys()\n",
    " \n",
    "word_freq['friends']\n",
    "word_freq['taxi']\n",
    "word_freq['jukebox']\n",
    " \n",
    "word_freq['begin'] # This would give an error\n",
    " \n",
    "word_freq['begin'] = 1\n",
    "word_freq['start'] = 2\n",
    "word_freq['over'] = 1\n",
    "word_freq['body'] = 17\n",
    " \n",
    "words = list(word_freq.keys())\n",
    "words[0] # First word in the dictionary\n",
    "word_freq[words[0]]  # Frequency of the first word in the dictionary\n",
    " \n",
    "words[len(words)-1] # Last word in the dictionary\n",
    "word_freq[words[len(words)-1]]  # Frequency of the first word in the dictionary\n"
   ]
  },
  {
   "cell_type": "markdown",
   "id": "32af7d00",
   "metadata": {},
   "source": [
    "1.2 Can a dictionary have two key-value pairs with the same key?"
   ]
  },
  {
   "cell_type": "markdown",
   "id": "9b50eb5a",
   "metadata": {},
   "source": [
    "The answer is no, because all the keys need to be unique within one object."
   ]
  },
  {
   "cell_type": "markdown",
   "id": "d03ec1b1",
   "metadata": {},
   "source": [
    "1.3 Can a dictionary have two key-value pairs with the same value but different keys?"
   ]
  },
  {
   "cell_type": "markdown",
   "id": "c527b1e8",
   "metadata": {},
   "source": [
    "The answer is yes."
   ]
  },
  {
   "cell_type": "markdown",
   "id": "c8186f64",
   "metadata": {},
   "source": [
    "# Lesson: Iterations\n",
    "#Exercise - Simple Iterations\n",
    "1.1 Write a simple for loop to print integers from 10 to 30. Also write a code to print those numbers in steps of 3."
   ]
  },
  {
   "cell_type": "code",
   "execution_count": 19,
   "id": "348c5457",
   "metadata": {},
   "outputs": [
    {
     "name": "stdout",
     "output_type": "stream",
     "text": [
      "10\n",
      "11\n",
      "12\n",
      "13\n",
      "14\n",
      "15\n",
      "16\n",
      "17\n",
      "18\n",
      "19\n",
      "20\n",
      "21\n",
      "22\n",
      "23\n",
      "24\n",
      "25\n",
      "26\n",
      "27\n",
      "28\n",
      "29\n",
      "10\n",
      "13\n",
      "16\n",
      "19\n",
      "22\n",
      "25\n",
      "28\n"
     ]
    }
   ],
   "source": [
    "for i in range(10,30):\n",
    "    print(i)\n",
    " \n",
    "for i in range(10,30,3):\n",
    "    print(i)"
   ]
  },
  {
   "cell_type": "markdown",
   "id": "3a7fdbdf",
   "metadata": {},
   "source": [
    "1.2 Update the previous code to print all the numbers from 10 to 30 that are multiples of 5."
   ]
  },
  {
   "cell_type": "code",
   "execution_count": 20,
   "id": "37a72ea6",
   "metadata": {},
   "outputs": [
    {
     "name": "stdout",
     "output_type": "stream",
     "text": [
      "10\n",
      "15\n",
      "20\n",
      "25\n"
     ]
    }
   ],
   "source": [
    "for i in range(10,30):\n",
    "    if i%5==0:\n",
    "        print(i)"
   ]
  },
  {
   "cell_type": "markdown",
   "id": "8d55e440",
   "metadata": {},
   "source": [
    "1.3 Write a code to print this pattern. Modify the print statement in the dummy code provided:\n",
    "***\n",
    "***"
   ]
  },
  {
   "cell_type": "markdown",
   "id": "92636c15",
   "metadata": {},
   "source": [
    "Dummy Code"
   ]
  },
  {
   "cell_type": "code",
   "execution_count": 23,
   "id": "29b08d80",
   "metadata": {},
   "outputs": [
    {
     "name": "stdout",
     "output_type": "stream",
     "text": [
      "*\n",
      "***\n",
      "*****\n"
     ]
    }
   ],
   "source": [
    "for i in range(1,6,2):\n",
    "    print(i*\"*\")"
   ]
  },
  {
   "cell_type": "markdown",
   "id": "c383f358",
   "metadata": {},
   "source": [
    " 1.4 Update the previous code to print the following pattern:\n",
    "    ***\n",
    "***\n"
   ]
  },
  {
   "cell_type": "markdown",
   "id": "a1192693",
   "metadata": {},
   "source": [
    "1.5 Take a positive integer input from the user. Find the factorial of that number. Use the factorial method provided in the math library to check if your result is correct or not. You can use the math library to calculate the factorial as follows:"
   ]
  },
  {
   "cell_type": "code",
   "execution_count": 25,
   "id": "53d729ec",
   "metadata": {},
   "outputs": [
    {
     "ename": "NameError",
     "evalue": "name 'n' is not defined",
     "output_type": "error",
     "traceback": [
      "\u001b[1;31m---------------------------------------------------------------------------\u001b[0m",
      "\u001b[1;31mNameError\u001b[0m                                 Traceback (most recent call last)",
      "Cell \u001b[1;32mIn[25], line 2\u001b[0m\n\u001b[0;32m      1\u001b[0m \u001b[38;5;28;01mimport\u001b[39;00m \u001b[38;5;21;01mmath\u001b[39;00m\n\u001b[1;32m----> 2\u001b[0m math\u001b[38;5;241m.\u001b[39mfactorial(\u001b[43mn\u001b[49m)\n",
      "\u001b[1;31mNameError\u001b[0m: name 'n' is not defined"
     ]
    }
   ],
   "source": [
    "import math\n",
    "math.factorial(n) # n is the positive integer for which we want to calculate the factorial"
   ]
  },
  {
   "cell_type": "markdown",
   "id": "086b88f5",
   "metadata": {},
   "source": [
    "Note: Factorial is defined as:"
   ]
  },
  {
   "cell_type": "code",
   "execution_count": 28,
   "id": "15458e15",
   "metadata": {},
   "outputs": [
    {
     "name": "stdout",
     "output_type": "stream",
     "text": [
      "Please enter a positive integer: 1\n",
      "Factorial is:  1\n",
      "The answer is correct\n"
     ]
    }
   ],
   "source": [
    "#5! = 5*4*3*2*1 # \" ! \" is the mathematical notation for factorial\n",
    " \n",
    " #   n! = n*(n-1)*(n-2)*..........*1\n",
    "    \n",
    "import math\n",
    "a = int(input(\"Please enter a positive integer: \"))\n",
    "result = 1\n",
    "for a in range(2,a+1):\n",
    "    result = result*a\n",
    "if result == math.factorial(a):\n",
    "    print(\"Factorial is: \", result)\n",
    "    print(\"The answer is correct\")\n",
    "else:\n",
    "    print(\"Your answer is not correct\")"
   ]
  },
  {
   "cell_type": "markdown",
   "id": "0de80a2e",
   "metadata": {},
   "source": [
    "# Exercise - Iterations on Lists\n",
    "2.1 Given the list:"
   ]
  },
  {
   "cell_type": "code",
   "execution_count": 29,
   "id": "0bc924a0",
   "metadata": {},
   "outputs": [],
   "source": [
    "x = [12, 43, 4, 1, 6, 343, 10, 34, 12, 93, 783, 330, 896, 1, 55]\n"
   ]
  },
  {
   "cell_type": "markdown",
   "id": "efff5a72",
   "metadata": {},
   "source": [
    "1.Write a code to find only those numbers that are divisible by 3.\n",
    "\n",
    "2.Write a code to find only those numbers in the list that end with the digit 3. Note: for this one you might have to convert the integers to string and then use its index to find the last digit. A simple example to use indexes with string is shown below:"
   ]
  },
  {
   "cell_type": "code",
   "execution_count": 30,
   "id": "5ba02f18",
   "metadata": {},
   "outputs": [
    {
     "data": {
      "text/plain": [
       "'I'"
      ]
     },
     "execution_count": 30,
     "metadata": {},
     "output_type": "execute_result"
    }
   ],
   "source": [
    "string_value = 'IRONHACK'\n",
    "string_value[0]"
   ]
  },
  {
   "cell_type": "markdown",
   "id": "0f6dc1da",
   "metadata": {},
   "source": [
    "3. Find the minimum in the list x. Conduct your own research to see if you can use any function directly.\n",
    "4. Find the maximum in the list x. Conduct your own research to see if you can use an3y function directly."
   ]
  },
  {
   "cell_type": "code",
   "execution_count": 31,
   "id": "8fa30966",
   "metadata": {},
   "outputs": [
    {
     "name": "stdout",
     "output_type": "stream",
     "text": [
      "number divisible by 3:  12\n",
      "number divisible by 3:  6\n",
      "number divisible by 3:  12\n",
      "number divisible by 3:  93\n",
      "number divisible by 3:  783\n",
      "number divisible by 3:  330\n",
      "-------------\n",
      "['43', '343', '93', '783']\n",
      "-------------\n",
      "min in list 'x':  1\n",
      "max in list 'x':  896\n",
      "-------------\n",
      "min in newly created 'output_list':  43\n",
      "max in newly created 'output_list':  783\n"
     ]
    }
   ],
   "source": [
    "x = [12, 43, 4, 1, 6, 343, 10, 34, 12, 93, 783, 330, 896, 1, 55]\n",
    " \n",
    "for item in x:\n",
    "    if item%3==0:\n",
    "        print(\"number divisible by 3: \", item)\n",
    " \n",
    "print(\"-------------\")\n",
    " \n",
    "output_list = []\n",
    "for item in x:\n",
    "    item = str(item)\n",
    "    last_digit = item[-1]\n",
    "    if last_digit == '3':\n",
    "        output_list.append(item)\n",
    "print(output_list) # ['43', '343', '93', '783']\n",
    " \n",
    "print(\"-------------\")\n",
    " \n",
    "# to find minimum and maximum in list x:\n",
    " \n",
    "print(\"min in list 'x': \", min(x)) # 1\n",
    "print(\"max in list 'x': \", max(x)) # 896\n",
    " \n",
    "print(\"-------------\")\n",
    " \n",
    "# to find minimum and maximum in the newly created output_list of all the items that end with the digit \"3\":\n",
    "int_list = [int(i) for i in output_list]\n",
    " \n",
    "print(\"min in newly created 'output_list': \", min(int_list)) # 43\n",
    "print(\"max in newly created 'output_list': \", max(int_list)) # 783"
   ]
  },
  {
   "cell_type": "markdown",
   "id": "780cd540",
   "metadata": {},
   "source": [
    "# Exercise: Iterations on Dictionaries\n",
    "3.1 Given this dictionary:"
   ]
  },
  {
   "cell_type": "code",
   "execution_count": 32,
   "id": "692913e6",
   "metadata": {},
   "outputs": [],
   "source": [
    "word_freq = {'love': 25, 'conversation': 1, 'every': 6, \"we're\": 1, 'plate': 1, 'sour': 1, 'jukebox': 1, 'now': 11, 'taxi': 1, 'fast': 1, 'bag': 1, 'man': 1, 'push': 3, 'baby': 14, 'going': 1, 'you': 16, \"don't\": 2, 'one': 1, 'mind': 2, 'backseat': 1, 'friends': 1, 'then': 3, 'know': 2}\n"
   ]
  },
  {
   "cell_type": "markdown",
   "id": "9a65e1cc",
   "metadata": {},
   "source": [
    "Iterate on the items of this dictionary to print only those keys where the frequency of the word is less than 3.\n",
    "\n",
    "Which is the word with the highest frequency?"
   ]
  },
  {
   "cell_type": "code",
   "execution_count": 33,
   "id": "daeb2a95",
   "metadata": {},
   "outputs": [
    {
     "name": "stdout",
     "output_type": "stream",
     "text": [
      "conversation\n",
      "we're\n",
      "plate\n",
      "sour\n",
      "jukebox\n",
      "taxi\n",
      "fast\n",
      "bag\n",
      "man\n",
      "going\n",
      "don't\n",
      "one\n",
      "mind\n",
      "backseat\n",
      "friends\n",
      "know\n"
     ]
    }
   ],
   "source": [
    "word_freq = {'love': 25, 'conversation': 1, 'every': 6, \"we're\": 1, 'plate': 1, 'sour': 1, 'jukebox': 1, 'now': 11, 'taxi': 1, 'fast': 1, 'bag': 1, 'man': 1, 'push': 3, 'baby': 14, 'going': 1, 'you': 16, \"don't\": 2, 'one': 1, 'mind': 2, 'backseat': 1, 'friends': 1, 'then': 3, 'know': 2}\n",
    "for word, freq in word_freq.items():\n",
    "    if freq < 3:\n",
    "        print(word)"
   ]
  },
  {
   "cell_type": "code",
   "execution_count": 34,
   "id": "f4e0a0df",
   "metadata": {},
   "outputs": [
    {
     "name": "stdout",
     "output_type": "stream",
     "text": [
      "love\n"
     ]
    }
   ],
   "source": [
    "frequencies = list(word_freq.values())\n",
    "max_freq = max(frequencies)\n",
    "for word, freq in word_freq.items():\n",
    "    if freq == max_freq:\n",
    "        print(word)"
   ]
  },
  {
   "cell_type": "markdown",
   "id": "1b0835f4",
   "metadata": {},
   "source": [
    "# Lesson: Pseudocode\n",
    "\n",
    "#Exercise - Writing Pseudocode\n",
    "\n",
    "You are witnessing an epic battle between two powerful sorcerers: Gandalf and Saruman. Each sorcerer has 10 spells of different powers in their mind and they are going to throw them one after the other. The winner of the duel will be the one who wins more of those clashes between spells. Spells are represented as a list of 10 integers whose value equals the power of the spell."
   ]
  },
  {
   "cell_type": "code",
   "execution_count": 35,
   "id": "28e51c4a",
   "metadata": {},
   "outputs": [],
   "source": [
    "gandalf = [10, 11, 13, 30, 22, 11, 10, 33, 22, 22]\n",
    "saruman = [23, 66, 12, 43, 12, 10, 44, 23, 12, 17]"
   ]
  },
  {
   "cell_type": "markdown",
   "id": "e8443b59",
   "metadata": {},
   "source": [
    "# For example:\n",
    "\n",
    "The first clash is won by Saruman: 10 against 23\n",
    "\n",
    "The second clash is won by Saruman: 11 against 66 etc.\n",
    "\n",
    "You will create two variables, one for each sorcerer, where the total of number of clashes won by each sorcerer will be stored. Depending on which variable is greater at the end of the duel, you will show one of the following three results on the screen:\n",
    "\n",
    "Gandalf wins\n",
    "\n",
    "Saruman wins\n",
    "\n",
    "Tie"
   ]
  },
  {
   "cell_type": "markdown",
   "id": "ea29899a",
   "metadata": {},
   "source": [
    "Pseudocode:\n",
    "\n",
    "Create variables and assign spell power lists to them\n",
    "\n",
    "Create variables to store number of wins by Gandalf and by Saruman. Assign 0 to each variable that stores the wins.\n",
    "\n",
    "Execute the spell clashes. Iterate on the length of any one list:\n",
    "Compare consecutive powers\n",
    "\n",
    "If Gandalf wins update victory for Gandalf (variable that stores number of wins should go up by 1)\n",
    "\n",
    "else if Saruman wins update the victory for Saruman (the same as above, just this time for Saruman)\n",
    "\n",
    "else it is a tie\n",
    "\n",
    "If Gandalf’s wins are greater than Saruman’s - print Gandalf wins\n",
    "\n",
    "Else if Saruman wins are greater than Gandalf’s - print Saruman wins\n",
    "\n",
    "Else print there is a tie\n",
    "\n",
    "Copy\n"
   ]
  },
  {
   "cell_type": "markdown",
   "id": "1498294a",
   "metadata": {},
   "source": [
    "# Assign spell power lists to variables\n",
    " \n",
    "gandalf = [10, 11, 13, 30, 22, 11, 10, 33, 22, 22]\n",
    "saruman = [23, 66, 12, 43, 12, 10, 44, 23, 12, 17]\n",
    " \n",
    "# Assign 0 to each variable that stores the victories\n",
    "total_gandalf_wins = 0\n",
    "total_saruman_wins = 0\n",
    " \n",
    "# Execution of spell clashes\n",
    "for i in range(0, len(gandalf)):\n",
    "    if (gandalf[i] > saruman[i]):\n",
    "        total_gandalf_wins += 1\n",
    "    elif (saruman[i] > gandalf[i]):\n",
    "        total_saruman_wins += 1\n",
    " \n",
    "# We check who has won, do not forget the possibility of a draw.\n",
    "# Print the result based on the winner.\n",
    "if (total_gandalf_wins > total_saruman_wins):\n",
    "    print (\"Gandalf wins!\")\n",
    "elif (total_saruman_wins > total_gandalf_wins):\n",
    "    print (\"Saruman wins!\")\n",
    "else:\n",
    "    print (\"No winners, it is a tie.\")"
   ]
  },
  {
   "cell_type": "markdown",
   "id": "3a0e7b36",
   "metadata": {},
   "source": [
    "# Lesson: Intro to Functions\n",
    "Exercise: Generation calculator\n",
    "Create a “generation calculator” to help determine the generation you belong to according to your birth year. Follow the below information:"
   ]
  },
  {
   "cell_type": "markdown",
   "id": "b549e46f",
   "metadata": {},
   "source": [
    "+-----------------+---------------------+\n",
    "|  birth_year     |      generation     |\n",
    "+-----------------+---------------------+\n",
    "|     < 1949      |  silent generation  |\n",
    "+-----------------+---------------------+\n",
    "|     < 1969      |     baby boomer     |\n",
    "+-----------------+---------------------+\n",
    "|     < 1981      |     X generation    |\n",
    "+-----------------+---------------------+\n",
    "|     < 1994      |      millennial     |\n",
    "+-----------------+---------------------+\n",
    "|     > 1994      |    Z generation     |\n",
    "+-----------------+---------------------+"
   ]
  },
  {
   "cell_type": "markdown",
   "id": "1415ce2d",
   "metadata": {},
   "source": [
    "Let’s add some “fake” users whose data we will be using to validate if the function gives us the correct and expected result."
   ]
  },
  {
   "cell_type": "code",
   "execution_count": 37,
   "id": "91b02523",
   "metadata": {},
   "outputs": [],
   "source": [
    "name1 = \"Jonh\"\n",
    "birth_year1 = 1989\n",
    " \n",
    "name2 = \"Mari\"\n",
    "birth_year2 = 1995\n",
    " \n",
    "name3 = \"Mich\"\n",
    "birth_year3 = 1960"
   ]
  },
  {
   "cell_type": "markdown",
   "id": "6feb98b7",
   "metadata": {},
   "source": [
    "1. Define the function generation calculator & add both parameters to represent both variables we are going to need in this function.\n",
    "\n",
    "2. Determine generation as a birth year (we need to know the year to be able to calculate)\n",
    "\n",
    "3. Print the results\n",
    "\n",
    "4. Write conditionals for each generation. For example, if you were born before 1949 you would be a “silent generation”.\n",
    "\n",
    "5. Define variables for each result\n",
    "\n",
    "6. Show results"
   ]
  },
  {
   "cell_type": "code",
   "execution_count": 38,
   "id": "d33107d8",
   "metadata": {},
   "outputs": [],
   "source": [
    "def generation_calculator(name, birth_year):\n",
    "    generation = birth_year\n",
    "    print (\"Generation: \")\n",
    "    print (generation)\n",
    "    if generation < 1949:\n",
    "        return name + \" is silent generation\"\n",
    "    if generation < 1969:\n",
    "        return name + \" is baby boomer\"\n",
    "    if generation < 1981:\n",
    "        return name + \" is X generation\"\n",
    "    if generation < 1994:\n",
    "        return name + \" is millennial\"\n",
    "    else:\n",
    "        return name + \" is Z generation\""
   ]
  },
  {
   "cell_type": "code",
   "execution_count": 39,
   "id": "73852027",
   "metadata": {},
   "outputs": [
    {
     "name": "stdout",
     "output_type": "stream",
     "text": [
      "Generation: \n",
      "1989\n",
      "Generation: \n",
      "1995\n",
      "Generation: \n",
      "1960\n",
      "Jonh is millennial\n",
      "Mari is Z generation\n",
      "Mich is baby boomer\n"
     ]
    }
   ],
   "source": [
    "result1 = generation_calculator (name1, birth_year1)\n",
    "result2 = generation_calculator (name2, birth_year2)\n",
    "result3 = generation_calculator (name3, birth_year3)\n",
    " \n",
    "print (result1)\n",
    "print (result2)\n",
    "print (result3)"
   ]
  },
  {
   "cell_type": "code",
   "execution_count": null,
   "id": "ec291642",
   "metadata": {},
   "outputs": [],
   "source": []
  }
 ],
 "metadata": {
  "kernelspec": {
   "display_name": "Python 3 (ipykernel)",
   "language": "python",
   "name": "python3"
  },
  "language_info": {
   "codemirror_mode": {
    "name": "ipython",
    "version": 3
   },
   "file_extension": ".py",
   "mimetype": "text/x-python",
   "name": "python",
   "nbconvert_exporter": "python",
   "pygments_lexer": "ipython3",
   "version": "3.10.9"
  }
 },
 "nbformat": 4,
 "nbformat_minor": 5
}
