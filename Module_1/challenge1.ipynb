{
  "nbformat": 4,
  "nbformat_minor": 0,
  "metadata": {
    "colab": {
      "provenance": [],
      "authorship_tag": "ABX9TyPDHraZiU232SKG5JazYL2Z",
      "include_colab_link": true
    },
    "kernelspec": {
      "name": "python3",
      "display_name": "Python 3"
    },
    "language_info": {
      "name": "python"
    }
  },
  "cells": [
    {
      "cell_type": "markdown",
      "metadata": {
        "id": "view-in-github",
        "colab_type": "text"
      },
      "source": [
        "<a href=\"https://colab.research.google.com/github/chatlapin/DAFT_0410/blob/main/module5/challenge1.ipynb\" target=\"_parent\"><img src=\"https://colab.research.google.com/assets/colab-badge.svg\" alt=\"Open In Colab\"/></a>"
      ]
    },
    {
      "cell_type": "code",
      "execution_count": 3,
      "metadata": {
        "colab": {
          "base_uri": "https://localhost:8080/"
        },
        "id": "ddi_8IZtGcAz",
        "outputId": "d1f60fc4-b007-4267-8a64-b202b9effaa1"
      },
      "outputs": [
        {
          "output_type": "stream",
          "name": "stdout",
          "text": [
            "<class 'tuple'>\n"
          ]
        }
      ],
      "source": [
        "tup = (\"I\",)\n",
        "print(type(tup))"
      ]
    },
    {
      "cell_type": "code",
      "source": [
        "tup = [\"r\", \"o\", \"n\", \"h\", \"a\", \"c\", \"k\"]\n",
        "l = list(tup)\n",
        "tup2 = l + tup\n",
        "print(tup2)"
      ],
      "metadata": {
        "colab": {
          "base_uri": "https://localhost:8080/"
        },
        "id": "RH7ThGhgGjLd",
        "outputId": "57acc1ed-a569-4364-bd67-5ad9fba3ac9e"
      },
      "execution_count": 5,
      "outputs": [
        {
          "output_type": "stream",
          "name": "stdout",
          "text": [
            "['r', 'o', 'n', 'h', 'a', 'c', 'k', 'r', 'o', 'n', 'h', 'a', 'c', 'k']\n"
          ]
        }
      ]
    },
    {
      "cell_type": "code",
      "source": [
        "tup1 = tup[:4]\n",
        "\n",
        "tup2 = tup[-4:]\n",
        "\n",
        "print(tup1)\n",
        "\n",
        "print(tup2)"
      ],
      "metadata": {
        "colab": {
          "base_uri": "https://localhost:8080/"
        },
        "id": "nOdDLDv5G9eA",
        "outputId": "dc6a64c1-6896-44a4-8285-d603f9991e0b"
      },
      "execution_count": 6,
      "outputs": [
        {
          "output_type": "stream",
          "name": "stdout",
          "text": [
            "['r', 'o', 'n', 'h']\n",
            "['h', 'a', 'c', 'k']\n"
          ]
        }
      ]
    },
    {
      "cell_type": "code",
      "source": [
        "tup3 = tup1 + tup2\n",
        "\n",
        "print(tup3)\n",
        "\n",
        "print(tup == tup3)"
      ],
      "metadata": {
        "colab": {
          "base_uri": "https://localhost:8080/"
        },
        "id": "IZl-NsvrHCZt",
        "outputId": "1e44d53d-5b48-49e9-84d3-7f425bc59e25"
      },
      "execution_count": 7,
      "outputs": [
        {
          "output_type": "stream",
          "name": "stdout",
          "text": [
            "['r', 'o', 'n', 'h', 'h', 'a', 'c', 'k']\n",
            "False\n"
          ]
        }
      ]
    },
    {
      "cell_type": "code",
      "source": [
        "len(tup1) + len(tup2) == len(tup3)"
      ],
      "metadata": {
        "colab": {
          "base_uri": "https://localhost:8080/"
        },
        "id": "fieINvxiHLR6",
        "outputId": "f94c9c51-9a5c-4386-82a8-7a663694c88b"
      },
      "execution_count": 9,
      "outputs": [
        {
          "output_type": "execute_result",
          "data": {
            "text/plain": [
              "True"
            ]
          },
          "metadata": {},
          "execution_count": 9
        }
      ]
    },
    {
      "cell_type": "code",
      "source": [
        "tup3.index(\"h\")"
      ],
      "metadata": {
        "colab": {
          "base_uri": "https://localhost:8080/"
        },
        "id": "8qOoBmROHNYq",
        "outputId": "1bd89c46-92af-4340-d788-de3f72365e04"
      },
      "execution_count": 10,
      "outputs": [
        {
          "output_type": "execute_result",
          "data": {
            "text/plain": [
              "3"
            ]
          },
          "metadata": {},
          "execution_count": 10
        }
      ]
    },
    {
      "cell_type": "code",
      "source": [
        "letters = [\"a\", \"b\", \"c\", \"d\", \"e\"]\n",
        "\n",
        "for letter in letters:\n",
        "    print(letter in tup3)"
      ],
      "metadata": {
        "colab": {
          "base_uri": "https://localhost:8080/"
        },
        "id": "kWaZA6-THPr3",
        "outputId": "62b6dda3-f3d0-490c-8263-0c12454e5432"
      },
      "execution_count": 11,
      "outputs": [
        {
          "output_type": "stream",
          "name": "stdout",
          "text": [
            "True\n",
            "False\n",
            "True\n",
            "False\n",
            "False\n"
          ]
        }
      ]
    },
    {
      "cell_type": "code",
      "source": [
        "for letter in letters:\n",
        "    print(tup3.count(letter))"
      ],
      "metadata": {
        "colab": {
          "base_uri": "https://localhost:8080/"
        },
        "id": "ix2BkZKrHSO3",
        "outputId": "1722fec9-eeba-4d98-ac72-a2b68432761b"
      },
      "execution_count": 12,
      "outputs": [
        {
          "output_type": "stream",
          "name": "stdout",
          "text": [
            "1\n",
            "0\n",
            "1\n",
            "0\n",
            "0\n"
          ]
        }
      ]
    }
  ]
}