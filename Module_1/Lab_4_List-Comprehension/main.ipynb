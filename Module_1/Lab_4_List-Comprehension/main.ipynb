{
  "cells": [
    {
      "cell_type": "markdown",
      "source": [],
      "metadata": {
        "id": "OkWh6Vk9ve53"
      }
    },
    {
      "cell_type": "markdown",
      "metadata": {
        "id": "QLQn1o_PvcbQ"
      },
      "source": [
        "# List Comprehensions\n",
        "\n",
        "Complete the following set of exercises to solidify your knowledge of list comprehensions."
      ]
    },
    {
      "cell_type": "code",
      "execution_count": null,
      "metadata": {
        "id": "HsYJSj3gvcbU"
      },
      "outputs": [],
      "source": [
        "import os;"
      ]
    },
    {
      "cell_type": "markdown",
      "metadata": {
        "id": "tMW-9ibavcbV"
      },
      "source": [
        "#### 1. Use a list comprehension to create and print a list of consecutive integers starting with 1 and ending with 50."
      ]
    },
    {
      "cell_type": "code",
      "execution_count": 2,
      "metadata": {
        "colab": {
          "base_uri": "https://localhost:8080/"
        },
        "id": "5NuLpdZBvcbW",
        "outputId": "efd35409-47ae-4864-ab79-58a3ad79fb84"
      },
      "outputs": [
        {
          "output_type": "stream",
          "name": "stdout",
          "text": [
            "range(1, 50) =  [1, 2, 3, 4, 5, 6, 7, 8, 9, 10, 11, 12, 13, 14, 15, 16, 17, 18, 19, 20, 21, 22, 23, 24, 25, 26, 27, 28, 29, 30, 31, 32, 33, 34, 35, 36, 37, 38, 39, 40, 41, 42, 43, 44, 45, 46, 47, 48, 49]\n"
          ]
        }
      ],
      "source": [
        "num_range1 = range(1, 50)\n",
        "print('range(1, 50) = ', list(num_range1))"
      ]
    },
    {
      "cell_type": "markdown",
      "metadata": {
        "id": "w0Q06VxvvcbW"
      },
      "source": [
        "#### 2. Use a list comprehension to create and print a list of even numbers starting with 2 and ending with 200."
      ]
    },
    {
      "cell_type": "code",
      "execution_count": 9,
      "metadata": {
        "colab": {
          "base_uri": "https://localhost:8080/"
        },
        "id": "dHpGavCSvcbW",
        "outputId": "172397fb-e78a-4895-a23e-73808bd51562"
      },
      "outputs": [
        {
          "output_type": "stream",
          "name": "stdout",
          "text": [
            "[2, 4, 6, 8, 10, 12, 14, 16, 18, 20, 22, 24, 26, 28, 30, 32, 34, 36, 38, 40, 42, 44, 46, 48, 50, 52, 54, 56, 58, 60, 62, 64, 66, 68, 70, 72, 74, 76, 78, 80, 82, 84, 86, 88, 90, 92, 94, 96, 98, 100, 102, 104, 106, 108, 110, 112, 114, 116, 118, 120, 122, 124, 126, 128, 130, 132, 134, 136, 138, 140, 142, 144, 146, 148, 150, 152, 154, 156, 158, 160, 162, 164, 166, 168, 170, 172, 174, 176, 178, 180, 182, 184, 186, 188, 190, 192, 194, 196, 198]\n"
          ]
        }
      ],
      "source": [
        "listl=[i for i in range (2, 200) if(i%2==0)]\n",
        "print(listl)"
      ]
    },
    {
      "cell_type": "markdown",
      "metadata": {
        "id": "2GtYiU1-vcbW"
      },
      "source": [
        "#### 3. Use a list comprehension to create and print a list containing all elements of the 10 x 4 array below."
      ]
    },
    {
      "cell_type": "code",
      "execution_count": 14,
      "metadata": {
        "colab": {
          "base_uri": "https://localhost:8080/"
        },
        "id": "qRwqsh9xvcbW",
        "outputId": "e663f74a-262a-4a67-ee13-7fcce7eb02cc"
      },
      "outputs": [
        {
          "output_type": "stream",
          "name": "stdout",
          "text": [
            "[[0.84062117, 0.48006452, 0.7876326, 0.77109654], [0.44409793, 0.09014516, 0.81835917, 0.87645456], [0.7066597, 0.09610873, 0.41247947, 0.57433389], [0.29960807, 0.42315023, 0.34452557, 0.4751035], [0.17003563, 0.46843998, 0.92796258, 0.69814654], [0.41290051, 0.19561071, 0.16284783, 0.97016248], [0.71725408, 0.87702738, 0.31244595, 0.76615487], [0.20754036, 0.57871812, 0.07214068, 0.40356048], [0.12149553, 0.53222417, 0.9976855, 0.12536346], [0.80930099, 0.50962849, 0.94555126, 0.33364763]]\n"
          ]
        }
      ],
      "source": [
        "a = [[0.84062117, 0.48006452, 0.7876326 , 0.77109654],\n",
        "       [0.44409793, 0.09014516, 0.81835917, 0.87645456],\n",
        "       [0.7066597 , 0.09610873, 0.41247947, 0.57433389],\n",
        "       [0.29960807, 0.42315023, 0.34452557, 0.4751035 ],\n",
        "       [0.17003563, 0.46843998, 0.92796258, 0.69814654],\n",
        "       [0.41290051, 0.19561071, 0.16284783, 0.97016248],\n",
        "       [0.71725408, 0.87702738, 0.31244595, 0.76615487],\n",
        "       [0.20754036, 0.57871812, 0.07214068, 0.40356048],\n",
        "       [0.12149553, 0.53222417, 0.9976855 , 0.12536346],\n",
        "       [0.80930099, 0.50962849, 0.94555126, 0.33364763]];\n",
        "\n",
        "print(a)"
      ]
    },
    {
      "cell_type": "markdown",
      "metadata": {
        "id": "dX0Jk6QHvcbY"
      },
      "source": [
        "#### 4. Add a condition to the list comprehension above so that only values greater than or equal to 0.5 are printed."
      ]
    },
    {
      "cell_type": "code",
      "execution_count": 30,
      "metadata": {
        "colab": {
          "base_uri": "https://localhost:8080/"
        },
        "id": "dkaJ98CtvcbY",
        "outputId": "47d99391-5658-4d8a-a4d8-835fd9f5e83a"
      },
      "outputs": [
        {
          "output_type": "stream",
          "name": "stdout",
          "text": [
            "0.84062117\n",
            "0.7876326\n",
            "0.77109654\n",
            "0.81835917\n",
            "0.87645456\n",
            "0.7066597\n",
            "0.57433389\n",
            "0.92796258\n",
            "0.69814654\n",
            "0.97016248\n",
            "0.71725408\n",
            "0.87702738\n",
            "0.76615487\n",
            "0.57871812\n",
            "0.53222417\n",
            "0.9976855\n",
            "0.80930099\n",
            "0.50962849\n",
            "0.94555126\n"
          ]
        }
      ],
      "source": [
        "for i in a:\n",
        "    for x in i:\n",
        "      if x>= 0.5:\n",
        "            print(x)"
      ]
    },
    {
      "cell_type": "markdown",
      "metadata": {
        "id": "yZ5U4MW8vcbZ"
      },
      "source": [
        "#### 5. Use a list comprehension to create and print a list containing all elements of the 5 x 2 x 3 array below."
      ]
    },
    {
      "cell_type": "code",
      "execution_count": 33,
      "metadata": {
        "id": "3uov5_SpvcbZ"
      },
      "outputs": [],
      "source": [
        "b = [[[0.55867166, 0.06210792, 0.08147297],\n",
        "        [0.82579068, 0.91512478, 0.06833034]],\n",
        "\n",
        "       [[0.05440634, 0.65857693, 0.30296619],\n",
        "        [0.06769833, 0.96031863, 0.51293743]],\n",
        "\n",
        "       [[0.09143215, 0.71893382, 0.45850679],\n",
        "        [0.58256464, 0.59005654, 0.56266457]],\n",
        "\n",
        "       [[0.71600294, 0.87392666, 0.11434044],\n",
        "        [0.8694668 , 0.65669313, 0.10708681]],\n",
        "\n",
        "       [[0.07529684, 0.46470767, 0.47984544],\n",
        "        [0.65368638, 0.14901286, 0.23760688]]];\n",
        "    "
      ]
    },
    {
      "cell_type": "code",
      "execution_count": 34,
      "metadata": {
        "colab": {
          "base_uri": "https://localhost:8080/"
        },
        "id": "OEL4_Nfuvcba",
        "outputId": "44825468-d89d-4785-9877-0ae94b1eb955"
      },
      "outputs": [
        {
          "output_type": "stream",
          "name": "stdout",
          "text": [
            "0.55867166\n",
            "0.06210792\n",
            "0.08147297\n",
            "0.82579068\n",
            "0.91512478\n",
            "0.06833034\n",
            "0.05440634\n",
            "0.65857693\n",
            "0.30296619\n",
            "0.06769833\n",
            "0.96031863\n",
            "0.51293743\n",
            "0.09143215\n",
            "0.71893382\n",
            "0.45850679\n",
            "0.58256464\n",
            "0.59005654\n",
            "0.56266457\n",
            "0.71600294\n",
            "0.87392666\n",
            "0.11434044\n",
            "0.8694668\n",
            "0.65669313\n",
            "0.10708681\n",
            "0.07529684\n",
            "0.46470767\n",
            "0.47984544\n",
            "0.65368638\n",
            "0.14901286\n",
            "0.23760688\n"
          ]
        }
      ],
      "source": [
        "for i in b:\n",
        "        for x in i:\n",
        "          for z in x:\n",
        "            print(z)"
      ]
    },
    {
      "cell_type": "markdown",
      "metadata": {
        "id": "Up-nGNCPvcba"
      },
      "source": [
        "#### 6. Add a condition to the list comprehension above so that the last value in each subarray is printed, but only if it is less than or equal to 0.5."
      ]
    },
    {
      "cell_type": "code",
      "execution_count": 36,
      "metadata": {
        "colab": {
          "base_uri": "https://localhost:8080/"
        },
        "id": "3KiXU-Gevcba",
        "outputId": "c523d769-6b80-4135-9393-d0a5f849987c"
      },
      "outputs": [
        {
          "output_type": "stream",
          "name": "stdout",
          "text": [
            "0.06210792\n",
            "0.08147297\n",
            "0.06833034\n",
            "0.05440634\n",
            "0.30296619\n",
            "0.06769833\n",
            "0.09143215\n",
            "0.45850679\n",
            "0.11434044\n",
            "0.10708681\n",
            "0.07529684\n",
            "0.46470767\n",
            "0.47984544\n",
            "0.14901286\n",
            "0.23760688\n"
          ]
        }
      ],
      "source": [
        "for i in b:\n",
        "        for x in i:\n",
        "          for z in x:\n",
        "            if z <= 0.5:\n",
        "                  print(z)"
      ]
    },
    {
      "cell_type": "markdown",
      "metadata": {
        "id": "-IeHk72Rvcbb"
      },
      "source": [
        "#### 7. Use a list comprehension to select and print the names of all CSV files in the */data* directory."
      ]
    },
    {
      "cell_type": "code",
      "execution_count": null,
      "metadata": {
        "id": "1gGmTOEkvcbb"
      },
      "outputs": [],
      "source": []
    },
    {
      "cell_type": "markdown",
      "metadata": {
        "id": "DwRArFi2vcbb"
      },
      "source": [
        "### Bonus"
      ]
    },
    {
      "cell_type": "markdown",
      "metadata": {
        "id": "zmS6C7dzvcbb"
      },
      "source": [
        "Try to solve these katas using list comprehensions."
      ]
    },
    {
      "cell_type": "markdown",
      "metadata": {
        "id": "Ijp8nK0bvcbc"
      },
      "source": [
        "**Easy**\n",
        "- [Insert values](https://www.codewars.com/kata/invert-values)\n",
        "- [Sum Square(n)](https://www.codewars.com/kata/square-n-sum)\n",
        "- [Digitize](https://www.codewars.com/kata/digitize)\n",
        "- [List filtering](https://www.codewars.com/kata/list-filtering)\n",
        "- [Arithmetic list](https://www.codewars.com/kata/541da001259d9ca85d000688)\n",
        "\n",
        "**Medium**\n",
        "- [Multiples of 3 or 5](https://www.codewars.com/kata/514b92a657cdc65150000006)\n",
        "- [Count of positives / sum of negatives](https://www.codewars.com/kata/count-of-positives-slash-sum-of-negatives)\n",
        "- [Categorize new member](https://www.codewars.com/kata/5502c9e7b3216ec63c0001aa)\n",
        "\n",
        "**Advanced**\n",
        "- [Queue time counter](https://www.codewars.com/kata/queue-time-counter)"
      ]
    }
  ],
  "metadata": {
    "kernelspec": {
      "display_name": "Python 3",
      "language": "python",
      "name": "python3"
    },
    "language_info": {
      "codemirror_mode": {
        "name": "ipython",
        "version": 3
      },
      "file_extension": ".py",
      "mimetype": "text/x-python",
      "name": "python",
      "nbconvert_exporter": "python",
      "pygments_lexer": "ipython3",
      "version": "3.7.2"
    },
    "colab": {
      "provenance": []
    }
  },
  "nbformat": 4,
  "nbformat_minor": 0
}