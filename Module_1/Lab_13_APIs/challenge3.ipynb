{
  "nbformat": 4,
  "nbformat_minor": 0,
  "metadata": {
    "colab": {
      "provenance": [],
      "authorship_tag": "ABX9TyOiZ4ve/J4/bMfwG+mq1J8k",
      "include_colab_link": true
    },
    "kernelspec": {
      "name": "python3",
      "display_name": "Python 3"
    },
    "language_info": {
      "name": "python"
    }
  },
  "cells": [
    {
      "cell_type": "markdown",
      "metadata": {
        "id": "view-in-github",
        "colab_type": "text"
      },
      "source": [
        "<a href=\"https://colab.research.google.com/github/chatlapin/DAFT_0410/blob/main/Module_1/Lab_13_APIs/challenge3.ipynb\" target=\"_parent\"><img src=\"https://colab.research.google.com/assets/colab-badge.svg\" alt=\"Open In Colab\"/></a>"
      ]
    },
    {
      "cell_type": "code",
      "execution_count": 10,
      "metadata": {
        "id": "gTEzD6_p5vtO"
      },
      "outputs": [],
      "source": [
        "#Sort the filenames ascendingly.\n",
        "#import os\n",
        "\n",
        "# file name with extension\n",
        "#file_name = os.path.basename('https://github.com/ironhack-datalabs/scavenger')\n",
        "\n",
        "import os\n",
        "\n",
        "# file name with extension\n",
        "file_name = os.path.basename('https://github.com/ironhack-datalabs/scavenger')\n",
        "\n",
        "#Read the content of each secret files into an array of strings.\n",
        "\n",
        "#Concatenate the strings in the array separating each two with a whitespace.\n",
        "\n",
        "#Print out the joke."
      ]
    }
  ]
}