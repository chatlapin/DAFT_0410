{
  "nbformat": 4,
  "nbformat_minor": 0,
  "metadata": {
    "colab": {
      "provenance": [],
      "authorship_tag": "ABX9TyMWK4SjLWfmIGwqTPx/S7fa",
      "include_colab_link": true
    },
    "kernelspec": {
      "name": "python3",
      "display_name": "Python 3"
    },
    "language_info": {
      "name": "python"
    }
  },
  "cells": [
    {
      "cell_type": "markdown",
      "metadata": {
        "id": "view-in-github",
        "colab_type": "text"
      },
      "source": [
        "<a href=\"https://colab.research.google.com/github/chatlapin/DAFT_0410/blob/main/Module_1/Lab_11_Object-Oriented-Programming/Untitled21.ipynb\" target=\"_parent\"><img src=\"https://colab.research.google.com/assets/colab-badge.svg\" alt=\"Open In Colab\"/></a>"
      ]
    },
    {
      "cell_type": "code",
      "execution_count": null,
      "metadata": {
        "id": "hUrQZLApBqNq"
      },
      "outputs": [],
      "source": [
        "* [1, 1, 2, 3, 1, 2, 3, 4], [1, 3] -> [2, 2, 4]\n",
        "* [1, 1, 2, 3, 1, 2, 3, 4, 4, 3, 5, 6, 7, 2, 8], [1, 3, 4, 2] -> [5, 6, 7, 8]\n",
        "* [8, 2, 7, 2, 3, 4, 6, 5, 4, 4, 1, 2, 3], [2, 4, 3] -> [8, 7, 6, 5, 1]"
      ]
    },
    {
      "cell_type": "code",
      "source": [
        "A=[1, 1, 2, 3, 1, 2, 3, 4]\n",
        "B=[1, 3]\n",
        "res = [i for i in A if i not in B]\n",
        "print(str(res))"
      ],
      "metadata": {
        "colab": {
          "base_uri": "https://localhost:8080/"
        },
        "id": "yxCEzS1VCueP",
        "outputId": "feec386d-7e59-4c22-f635-d39bf308b4d7"
      },
      "execution_count": 4,
      "outputs": [
        {
          "output_type": "stream",
          "name": "stdout",
          "text": [
            "[2, 2, 4]\n"
          ]
        }
      ]
    },
    {
      "cell_type": "code",
      "source": [
        "A=[1, 1, 2, 3, 1, 2, 3, 4, 4, 3, 5, 6, 7, 2, 8] \n",
        "B=[1, 3, 4, 2]\n",
        "res = [i for i in A if i not in B]\n",
        "print(str(res))\n"
      ],
      "metadata": {
        "colab": {
          "base_uri": "https://localhost:8080/"
        },
        "id": "IWQsyuLFEDmc",
        "outputId": "399315a4-7d48-4db4-f602-9fe7b69afa1a"
      },
      "execution_count": 6,
      "outputs": [
        {
          "output_type": "stream",
          "name": "stdout",
          "text": [
            "[5, 6, 7, 8]\n"
          ]
        }
      ]
    },
    {
      "cell_type": "code",
      "source": [
        "A=[8, 2, 7, 2, 3, 4, 6, 5, 4, 4, 1, 2, 3] \n",
        "B=[2, 4, 3]\n",
        "res = [i for i in A if i not in B]\n",
        "print(str(res))"
      ],
      "metadata": {
        "colab": {
          "base_uri": "https://localhost:8080/"
        },
        "id": "Rs27oxnNEkCQ",
        "outputId": "c39d843b-97a8-4ec1-a459-6dc606da798d"
      },
      "execution_count": 7,
      "outputs": [
        {
          "output_type": "stream",
          "name": "stdout",
          "text": [
            "[8, 7, 6, 5, 1]\n"
          ]
        }
      ]
    },
    {
      "cell_type": "code",
      "source": [
        "l = List()\n",
        "\n",
        "integers_list =  [1, 1, 2 ,3 ,1 ,2 ,3 ,4]\n",
        "digits_list = [1, 3]\n",
        "l.count_spec_digits(integers_list, digits_list) == [(1, 3), (3, 2)]\n",
        "\n",
        "integers_list = [-18, -31, 81, -19, 111, -888]\n",
        "digits_list = [1, 8, 4]\n",
        "l.count_spec_digits(integers_list, digits_list) == [(1, 7), (8, 5), (4, 0)]\n",
        "\n",
        "integers_list = [-77, -65, 56, -79, 6666, 222]\n",
        "digits_list = [1, 8, 4]\n",
        "l.count_spec_digits(integers_list, digits_list) == [(1, 0), (8, 0), (4, 0)]\n"
      ],
      "metadata": {
        "id": "dMTPdSv0Esk7"
      },
      "execution_count": null,
      "outputs": []
    },
    {
      "cell_type": "code",
      "source": [
        "def ordered_count(a):\n",
        "ordered_count=\"abracadabra\"\n",
        "\n",
        "a=[('a', 5), ('b', 2), ('r', 2), ('c', 1), ('d', 1)]\n",
        "for i in a:\n",
        "    if i not in ordered_count:\n",
        "    l.append(i)\n",
        "\n",
        "    print(a)"
      ],
      "metadata": {
        "colab": {
          "base_uri": "https://localhost:8080/",
          "height": 133
        },
        "id": "G_WozcYXFZUt",
        "outputId": "b8ec8114-8ed4-4a5c-b99b-78daed372734"
      },
      "execution_count": 45,
      "outputs": [
        {
          "output_type": "error",
          "ename": "IndentationError",
          "evalue": "ignored",
          "traceback": [
            "\u001b[0;36m  File \u001b[0;32m\"<ipython-input-45-85787bca2acb>\"\u001b[0;36m, line \u001b[0;32m2\u001b[0m\n\u001b[0;31m    ordered_count=\"abracadabra\"\u001b[0m\n\u001b[0m    ^\u001b[0m\n\u001b[0;31mIndentationError\u001b[0m\u001b[0;31m:\u001b[0m expected an indented block\n"
          ]
        }
      ]
    }
  ]
}