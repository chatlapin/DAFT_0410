{
  "nbformat": 4,
  "nbformat_minor": 0,
  "metadata": {
    "colab": {
      "provenance": [],
      "authorship_tag": "ABX9TyMKHdCPk6s8sm3GDBUvD6GS",
      "include_colab_link": true
    },
    "kernelspec": {
      "name": "python3",
      "display_name": "Python 3"
    },
    "language_info": {
      "name": "python"
    }
  },
  "cells": [
    {
      "cell_type": "markdown",
      "metadata": {
        "id": "view-in-github",
        "colab_type": "text"
      },
      "source": [
        "<a href=\"https://colab.research.google.com/github/chatlapin/DAFT_0410/blob/main/Module_1/Lab_11_Object-Oriented-Programming/Untitled21.ipynb\" target=\"_parent\"><img src=\"https://colab.research.google.com/assets/colab-badge.svg\" alt=\"Open In Colab\"/></a>"
      ]
    },
    {
      "cell_type": "code",
      "execution_count": null,
      "metadata": {
        "id": "hUrQZLApBqNq"
      },
      "outputs": [],
      "source": [
        "* [1, 1, 2, 3, 1, 2, 3, 4], [1, 3] -> [2, 2, 4]\n",
        "* [1, 1, 2, 3, 1, 2, 3, 4, 4, 3, 5, 6, 7, 2, 8], [1, 3, 4, 2] -> [5, 6, 7, 8]\n",
        "* [8, 2, 7, 2, 3, 4, 6, 5, 4, 4, 1, 2, 3], [2, 4, 3] -> [8, 7, 6, 5, 1]"
      ]
    },
    {
      "cell_type": "code",
      "source": [
        "A=[1, 1, 2, 3, 1, 2, 3, 4]\n",
        "B=[1, 3]\n",
        "res = [i for i in A if i not in B]\n",
        "print(str(res))"
      ],
      "metadata": {
        "colab": {
          "base_uri": "https://localhost:8080/"
        },
        "id": "yxCEzS1VCueP",
        "outputId": "feec386d-7e59-4c22-f635-d39bf308b4d7"
      },
      "execution_count": 4,
      "outputs": [
        {
          "output_type": "stream",
          "name": "stdout",
          "text": [
            "[2, 2, 4]\n"
          ]
        }
      ]
    },
    {
      "cell_type": "code",
      "source": [
        "[1, 1, 2, 3, 1, 2, 3, 4, 4, 3, 5, 6, 7, 2, 8], [1, 3, 4, 2]"
      ],
      "metadata": {
        "id": "IWQsyuLFEDmc"
      },
      "execution_count": null,
      "outputs": []
    }
  ]
}