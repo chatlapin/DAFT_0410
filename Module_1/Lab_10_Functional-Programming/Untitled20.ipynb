{
  "nbformat": 4,
  "nbformat_minor": 0,
  "metadata": {
    "colab": {
      "provenance": [],
      "authorship_tag": "ABX9TyM1K9vc769VuMpnxmK5jl1x",
      "include_colab_link": true
    },
    "kernelspec": {
      "name": "python3",
      "display_name": "Python 3"
    },
    "language_info": {
      "name": "python"
    }
  },
  "cells": [
    {
      "cell_type": "markdown",
      "metadata": {
        "id": "view-in-github",
        "colab_type": "text"
      },
      "source": [
        "<a href=\"https://colab.research.google.com/github/chatlapin/DAFT_0410/blob/main/Module_1/Lab_10_Functional-Programming/Untitled20.ipynb\" target=\"_parent\"><img src=\"https://colab.research.google.com/assets/colab-badge.svg\" alt=\"Open In Colab\"/></a>"
      ]
    },
    {
      "cell_type": "code",
      "source": [
        "def count_sheeps(sheeps):\n",
        "    total = 0\n",
        "    for i in sheeps:\n",
        "        if i == 'true':\n",
        "            total += i\n",
        "        else: 0\n",
        "        return sum(bool(x) for x in sheeps)\n",
        "sheeps=[true,  true,  true,  false,\n",
        "        true,  true,  true,  true ,\n",
        "        true,  false, true,  false,\n",
        "        true,  false, false, true ,\n",
        "        true,  true,  true,  true ,\n",
        "        false, false, true,  true]\n",
        "\n",
        "print(count_sheeps(sheeps))"
      ],
      "metadata": {
        "colab": {
          "base_uri": "https://localhost:8080/"
        },
        "id": "L-2ReIl6xG1O",
        "outputId": "5892ce15-85f4-4578-ab68-4ec06dc1c3d7"
      },
      "execution_count": 35,
      "outputs": [
        {
          "output_type": "stream",
          "name": "stdout",
          "text": [
            "17\n"
          ]
        }
      ]
    }
  ]
}