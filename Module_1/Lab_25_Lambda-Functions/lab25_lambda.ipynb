{
  "nbformat": 4,
  "nbformat_minor": 0,
  "metadata": {
    "colab": {
      "provenance": [],
      "authorship_tag": "ABX9TyMEdcxCzis6i4/5wtXHVCLG",
      "include_colab_link": true
    },
    "kernelspec": {
      "name": "python3",
      "display_name": "Python 3"
    },
    "language_info": {
      "name": "python"
    }
  },
  "cells": [
    {
      "cell_type": "markdown",
      "metadata": {
        "id": "view-in-github",
        "colab_type": "text"
      },
      "source": [
        "<a href=\"https://colab.research.google.com/github/chatlapin/DAFT_0410/blob/main/Module_1/Lab_25_Lambda-Functions/lab25_lambda.ipynb\" target=\"_parent\"><img src=\"https://colab.research.google.com/assets/colab-badge.svg\" alt=\"Open In Colab\"/></a>"
      ]
    },
    {
      "cell_type": "code",
      "source": [
        "lst = [i for i in range(7)]\n",
        "cat = lambda x: x + 2\n",
        "lst2 = []\n",
        "\n",
        "def modify_list(x, dog):\n",
        "    return [dog(i) for i in x]\n",
        "lst2 = modify_list(lst, cat)\n",
        "print(lst2)\n",
        "    "
      ],
      "metadata": {
        "colab": {
          "base_uri": "https://localhost:8080/"
        },
        "id": "CkWHRz3ZwtkP",
        "outputId": "e2aad3a8-e43a-47ce-f381-83be08a8440a"
      },
      "execution_count": 15,
      "outputs": [
        {
          "output_type": "stream",
          "name": "stdout",
          "text": [
            "[2, 3, 4, 5, 6, 7, 8]\n"
          ]
        }
      ]
    },
    {
      "cell_type": "code",
      "source": [
        "c_to_k = lambda x: x + 273.15"
      ],
      "metadata": {
        "id": "HiWOSTi8y_wo"
      },
      "execution_count": 18,
      "outputs": []
    },
    {
      "cell_type": "code",
      "source": [
        "temperature = [12, 23, 38, -55, 24]\n",
        "temperature_kelvin = [c_to_k(x) for x in temperature]\n",
        "print(temperature_kelvin)"
      ],
      "metadata": {
        "colab": {
          "base_uri": "https://localhost:8080/"
        },
        "id": "v6rxiyCKzLGC",
        "outputId": "a67ca981-9836-4d84-9ba4-5a0613f9af7a"
      },
      "execution_count": 22,
      "outputs": [
        {
          "output_type": "stream",
          "name": "stdout",
          "text": [
            "[285.15, 296.15, 311.15, 218.14999999999998, 297.15]\n"
          ]
        }
      ]
    },
    {
      "cell_type": "code",
      "source": [
        "mod = lambda x, y: 1 if y % x == 0 else 0\n",
        "mod(4, 10)"
      ],
      "metadata": {
        "colab": {
          "base_uri": "https://localhost:8080/"
        },
        "id": "UL0hi6snzd_L",
        "outputId": "b1c2648c-bfe3-4168-f437-dfaf7a5ca77e"
      },
      "execution_count": 28,
      "outputs": [
        {
          "output_type": "execute_result",
          "data": {
            "text/plain": [
              "0"
            ]
          },
          "metadata": {},
          "execution_count": 28
        }
      ]
    },
    {
      "cell_type": "code",
      "source": [
        "def divisor(n):\n",
        "  mod = lambda x, y: 1 if y % x == 0 else 0\n",
        "  return mod(5, 10)\n",
        "print(divisor(10))\n",
        "print(divisor(8))"
      ],
      "metadata": {
        "colab": {
          "base_uri": "https://localhost:8080/"
        },
        "id": "0AWUpqdICoJA",
        "outputId": "f1311790-9ea1-4087-8805-6f6d034f8e33"
      },
      "execution_count": 92,
      "outputs": [
        {
          "output_type": "stream",
          "name": "stdout",
          "text": [
            "1\n",
            "1\n"
          ]
        }
      ]
    },
    {
      "cell_type": "code",
      "source": [
        "mod = lambda x, y: 1 if y % x == 0 else 0\n",
        "mod(2, 10)"
      ],
      "metadata": {
        "colab": {
          "base_uri": "https://localhost:8080/"
        },
        "id": "YRRqJZoOz_7S",
        "outputId": "75bda46d-d3f4-4eaf-b575-e25eb877d9fe"
      },
      "execution_count": 29,
      "outputs": [
        {
          "output_type": "execute_result",
          "data": {
            "text/plain": [
              "1"
            ]
          },
          "metadata": {},
          "execution_count": 29
        }
      ]
    },
    {
      "cell_type": "code",
      "source": [
        "mod = lambda x, y: 1 if y % x == 0 else 0\n",
        "mod(5, 10)"
      ],
      "metadata": {
        "colab": {
          "base_uri": "https://localhost:8080/"
        },
        "id": "3A34gcGh9xNO",
        "outputId": "bca92dcf-f130-477d-f804-c3bc2e8779ac"
      },
      "execution_count": 80,
      "outputs": [
        {
          "output_type": "execute_result",
          "data": {
            "text/plain": [
              "1"
            ]
          },
          "metadata": {},
          "execution_count": 80
        }
      ]
    },
    {
      "cell_type": "code",
      "source": [
        "mod = lambda x, y: 1 if y % x == 0 else 0\n",
        "mod(5, 8)"
      ],
      "metadata": {
        "colab": {
          "base_uri": "https://localhost:8080/"
        },
        "id": "0eYbmfRN95jF",
        "outputId": "1a895f06-a25b-4cca-dbc2-c28e8ee8165a"
      },
      "execution_count": 82,
      "outputs": [
        {
          "output_type": "execute_result",
          "data": {
            "text/plain": [
              "0"
            ]
          },
          "metadata": {},
          "execution_count": 82
        }
      ]
    },
    {
      "cell_type": "markdown",
      "source": [
        "For the exercise, the definition of divisor is specific to being divided by 5"
      ],
      "metadata": {
        "id": "Q-ZXURVbBTOi"
      }
    },
    {
      "cell_type": "code",
      "source": [
        "x = 10\n",
        "y = 5\n",
        "result = x % y\n",
        "print(\"The remainder of \", x, \" divided by \", y, \" is \", result)"
      ],
      "metadata": {
        "colab": {
          "base_uri": "https://localhost:8080/"
        },
        "id": "IB2pjU7Y16h4",
        "outputId": "950b6060-f882-4e1f-8df3-a4332ae7bd13"
      },
      "execution_count": 78,
      "outputs": [
        {
          "output_type": "stream",
          "name": "stdout",
          "text": [
            "The remainder of  10  divided by  5  is  0\n"
          ]
        }
      ]
    },
    {
      "cell_type": "code",
      "source": [
        "x = 8\n",
        "y = 5\n",
        "result = x % y\n",
        "print(\"The remainder of \", x, \" divided by \", y, \" is \", result)"
      ],
      "metadata": {
        "colab": {
          "base_uri": "https://localhost:8080/"
        },
        "id": "dhUUt7ZD6-H4",
        "outputId": "35894c3e-0749-41bc-8102-3fc74921de17"
      },
      "execution_count": 79,
      "outputs": [
        {
          "output_type": "stream",
          "name": "stdout",
          "text": [
            "The remainder of  8  divided by  5  is  3\n"
          ]
        }
      ]
    },
    {
      "cell_type": "markdown",
      "source": [],
      "metadata": {
        "id": "t4XVaRLcBbDZ"
      }
    },
    {
      "cell_type": "markdown",
      "source": [],
      "metadata": {
        "id": "VjaO4gLkBeDr"
      }
    },
    {
      "cell_type": "markdown",
      "source": [
        "Divisor can be 1,2,5,10\n",
        "the answer can be 4."
      ],
      "metadata": {
        "id": "ndYSsDrEBfci"
      }
    },
    {
      "cell_type": "code",
      "source": [
        "def divisor(n):\n",
        "  x = len([i for i in range(1,n+1) if not n % i])\n",
        "  return x\n",
        "print(divisor(10))"
      ],
      "metadata": {
        "colab": {
          "base_uri": "https://localhost:8080/"
        },
        "id": "NzcxrfRA0Me2",
        "outputId": "447df858-a1d8-4e85-e0fc-aea38867f412"
      },
      "execution_count": 90,
      "outputs": [
        {
          "output_type": "stream",
          "name": "stdout",
          "text": [
            "4\n"
          ]
        }
      ]
    },
    {
      "cell_type": "code",
      "source": [
        "def divisor(n):\n",
        "  x = len([i for i in range(1,n+1) if not n % i])\n",
        "  return x\n",
        "print(divisor(8))"
      ],
      "metadata": {
        "colab": {
          "base_uri": "https://localhost:8080/"
        },
        "id": "IbN31MD2BMeQ",
        "outputId": "19a89ba0-e4a2-4c7c-eb1a-f7efdf362090"
      },
      "execution_count": 91,
      "outputs": [
        {
          "output_type": "stream",
          "name": "stdout",
          "text": [
            "4\n"
          ]
        }
      ]
    },
    {
      "cell_type": "code",
      "source": [
        "l = [1,2,3,4,5]\n",
        "[x for x in zip(l)]"
      ],
      "metadata": {
        "colab": {
          "base_uri": "https://localhost:8080/"
        },
        "id": "YIBZq3y727Qq",
        "outputId": "ae44dee8-514a-40bd-9dd6-d843f381e61e"
      },
      "execution_count": 48,
      "outputs": [
        {
          "output_type": "execute_result",
          "data": {
            "text/plain": [
              "[(1,), (2,), (3,), (4,), (5,)]"
            ]
          },
          "metadata": {},
          "execution_count": 48
        }
      ]
    },
    {
      "cell_type": "code",
      "source": [
        "list1 = ['Green', 'cheese', 'English', 'tomato']\n",
        "list2 = ['eggs', 'cheese', 'cucumber', 'tomato']\n",
        "zipped = zip(list1,list2)\n",
        "list(zipped)"
      ],
      "metadata": {
        "colab": {
          "base_uri": "https://localhost:8080/"
        },
        "id": "0u9hCzUq2ZEP",
        "outputId": "9ed37d9a-41ce-41c2-e64c-7a8a00cde9aa"
      },
      "execution_count": 47,
      "outputs": [
        {
          "output_type": "execute_result",
          "data": {
            "text/plain": [
              "[('Green', 'eggs'),\n",
              " ('cheese', 'cheese'),\n",
              " ('English', 'cucumber'),\n",
              " ('tomato', 'tomato')]"
            ]
          },
          "metadata": {},
          "execution_count": 47
        }
      ]
    },
    {
      "cell_type": "code",
      "source": [
        "list1 = ['Engineering', 'Computer Science', 'Political Science', 'Mathematics']\n",
        "list2 = ['Lab', 'Homework', 'Essay', 'Module']\n",
        "list3 = list(zip(list1, list2))\n",
        "sorting = sorted(list3, key = lambda x: x[1][0])\n",
        "print(sorting)"
      ],
      "metadata": {
        "colab": {
          "base_uri": "https://localhost:8080/"
        },
        "id": "IdADE6qx2ku4",
        "outputId": "1be13c1d-23c5-46db-a745-c1ec9474626d"
      },
      "execution_count": 50,
      "outputs": [
        {
          "output_type": "stream",
          "name": "stdout",
          "text": [
            "[('Political Science', 'Essay'), ('Computer Science', 'Homework'), ('Engineering', 'Lab'), ('Mathematics', 'Module')]\n"
          ]
        }
      ]
    },
    {
      "cell_type": "code",
      "source": [
        "d = {'Honda': 1997, 'Toyota': 1995, 'Audi': 2001, 'BMW': 2005}\n",
        "\n",
        "# Your code here:\n",
        "var = {k : v for k, v in sorted(d.items(), key = lambda x: x[1])}"
      ],
      "metadata": {
        "id": "Sw7B6jo02m2u"
      },
      "execution_count": 51,
      "outputs": []
    },
    {
      "cell_type": "code",
      "source": [
        "print(var)"
      ],
      "metadata": {
        "colab": {
          "base_uri": "https://localhost:8080/"
        },
        "id": "bIaupLtP2pyI",
        "outputId": "9811b734-6d96-4f8e-f163-f166365b49fb"
      },
      "execution_count": 53,
      "outputs": [
        {
          "output_type": "stream",
          "name": "stdout",
          "text": [
            "{'Toyota': 1995, 'Honda': 1997, 'Audi': 2001, 'BMW': 2005}\n"
          ]
        }
      ]
    }
  ]
}