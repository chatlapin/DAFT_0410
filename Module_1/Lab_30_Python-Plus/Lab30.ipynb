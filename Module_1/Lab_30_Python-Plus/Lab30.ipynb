{
 "cells": [
  {
   "cell_type": "code",
   "execution_count": null,
   "metadata": {
    "id": "T6A01vZibss2"
   },
   "outputs": [],
   "source": [
    "import pandas as pd\n",
    "import numpy as np"
   ]
  },
  {
   "cell_type": "code",
   "execution_count": null,
   "metadata": {
    "id": "DEh9R6h2btQr"
   },
   "outputs": [],
   "source": [
    "admissions = pd.read_csv('data/Admission_Predict.csv')"
   ]
  },
  {
   "cell_type": "code",
   "execution_count": null,
   "metadata": {
    "id": "XK1B_iFEbvbo"
   },
   "outputs": [],
   "source": [
    "admissions.columns = [col.strip() for col in admissions.columns]\n",
    "admissions.columns"
   ]
  },
  {
   "cell_type": "code",
   "execution_count": null,
   "metadata": {
    "id": "4bRCZmRXbw-B"
   },
   "outputs": [],
   "source": [
    "admissions.head()"
   ]
  },
  {
   "cell_type": "code",
   "execution_count": null,
   "metadata": {
    "id": "unlT-tfnbyc8"
   },
   "outputs": [],
   "source": [
    "for col in admissions.columns:\n",
    "    print(admissions[col].isnull().value_counts())"
   ]
  },
  {
   "cell_type": "code",
   "execution_count": null,
   "metadata": {
    "id": "7eKgch6Bb0QP"
   },
   "outputs": [],
   "source": [
    "admissions.set_index('Serial No.', drop=False, inplace=True)"
   ]
  },
  {
   "cell_type": "code",
   "execution_count": null,
   "metadata": {
    "id": "pf4IpGcgb2Bd"
   },
   "outputs": [],
   "source": [
    "admissions['Combined'] = admissions['GRE Score'].astype('str') + admissions['CGPA'].astype('str')\n",
    "len(admissions['Combined'].unique())"
   ]
  },
  {
   "cell_type": "code",
   "execution_count": null,
   "metadata": {
    "id": "cHA_JrvCb4Cc"
   },
   "outputs": [],
   "source": [
    "admissions.set_index(['GRE Score','CGPA'], inplace=True)"
   ]
  },
  {
   "cell_type": "code",
   "execution_count": null,
   "metadata": {
    "id": "reCsU-Fxb5za"
   },
   "outputs": [],
   "source": [
    "admissions.reset_index(inplace=True)\n",
    "admissions"
   ]
  },
  {
   "cell_type": "code",
   "execution_count": null,
   "metadata": {
    "id": "eM6wI-csb7ee"
   },
   "outputs": [],
   "source": [
    "admissions[(admissions['CGPA'] > 9) & (admissions['Research'] == 1)]"
   ]
  },
  {
   "cell_type": "code",
   "execution_count": null,
   "metadata": {
    "id": "9I_3i1bzb9ca"
   },
   "outputs": [],
   "source": [
    "admissions.loc[(admissions['CGPA'] > 9) & (admissions['SOP'] < 3.5), 'Chance of Admit'].mean()"
   ]
  },
  {
   "cell_type": "code",
   "execution_count": null,
   "metadata": {
    "id": "djDNA6iKb_fM"
   },
   "outputs": [],
   "source": [
    "def standardize(col):\n",
    "    \"\"\"\n",
    "    This function takes a column from a dataframe \n",
    "    and returns a standardized column by subtracting the column's mean\n",
    "    and dividing by the column's standard deviation.\n",
    "    \"\"\"\n",
    "    return (col - col.mean())/col.std()"
   ]
  },
  {
   "cell_type": "code",
   "execution_count": null,
   "metadata": {
    "id": "NrX-93uvcBrl"
   },
   "outputs": [],
   "source": [
    "admissions['CGPA_std'] = standardize(admissions['CGPA'])\n",
    "admissions['GRE_std'] = standardize(admissions['GRE Score'])\n",
    "admissions['LOR_std'] = standardize(admissions['LOR'])\n",
    "admissions"
   ]
  },
  {
   "cell_type": "code",
   "execution_count": null,
   "metadata": {
    "id": "u0esDVgpcDDz"
   },
   "outputs": [],
   "source": [
    "from random import choices"
   ]
  },
  {
   "cell_type": "code",
   "execution_count": null,
   "metadata": {
    "id": "W2Aq3DimcFtj"
   },
   "outputs": [],
   "source": [
    "std_columns = ['CGPA_std', 'GRE_std', 'LOR_std']\n",
    "\n",
    "decision_choice = choices(std_columns, k=admissions.shape[0])\n",
    "decision_choice"
   ]
  },
  {
   "cell_type": "code",
   "execution_count": null,
   "metadata": {
    "id": "kE-njZeAcHK5"
   },
   "outputs": [],
   "source": [
    "admissions['Deciding Column'] = admissions.lookup(admissions.index, decision_choice)\n",
    "admissions"
   ]
  },
  {
   "cell_type": "code",
   "execution_count": null,
   "metadata": {
    "id": "VVUAGqWpcKTr"
   },
   "outputs": [],
   "source": [
    "admissions['Decision'] = [1 if x > 0.8 else 0 for x in admissions['Deciding Column']]"
   ]
  },
  {
   "cell_type": "code",
   "execution_count": null,
   "metadata": {
    "id": "5vrjf4tBcNAn"
   },
   "outputs": [],
   "source": [
    "admissions['Decision'].sum()"
   ]
  },
  {
   "cell_type": "code",
   "execution_count": null,
   "metadata": {
    "id": "0SVcmG8NcOeI"
   },
   "outputs": [],
   "source": [
    "admissions.columns = [s.strip('.').replace(' ', '_').lower() for s in admissions.columns]\n",
    "admissions"
   ]
  },
  {
   "cell_type": "code",
   "execution_count": null,
   "metadata": {
    "id": "fu3AcTfHcOma"
   },
   "outputs": [],
   "source": [
    "admissions['adjusted_gre'] = pd.cut(admissions[admissions['university_rating'] >= 4]['gre_score'].add(10), bins= 4)"
   ]
  },
  {
   "cell_type": "code",
   "execution_count": null,
   "metadata": {
    "id": "sUmVcTAucSh7"
   },
   "outputs": [],
   "source": [
    "admissions"
   ]
  },
  {
   "cell_type": "code",
   "execution_count": null,
   "metadata": {
    "id": "KDoRyQ3ccTul"
   },
   "outputs": [],
   "source": []
  }
 ],
 "metadata": {
  "colab": {
   "provenance": []
  },
  "kernelspec": {
   "display_name": "Python 3 (ipykernel)",
   "language": "python",
   "name": "python3"
  },
  "language_info": {
   "codemirror_mode": {
    "name": "ipython",
    "version": 3
   },
   "file_extension": ".py",
   "mimetype": "text/x-python",
   "name": "python",
   "nbconvert_exporter": "python",
   "pygments_lexer": "ipython3",
   "version": "3.10.9"
  }
 },
 "nbformat": 4,
 "nbformat_minor": 1
}
