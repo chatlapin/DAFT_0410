{
 "cells": [
  {
   "cell_type": "code",
   "execution_count": 1,
   "id": "ace8e7ae",
   "metadata": {},
   "outputs": [],
   "source": [
    "import pandas as pd\n",
    "import numpy as np\n",
    "import matplotlib.pyplot as plt\n",
    "import seaborn as sns\n",
    "import datetime as dt\n",
    "import scipy.stats as st\n",
    "import re\n",
    "import scipy as sp\n",
    "from scipy import stats"
   ]
  },
  {
   "cell_type": "code",
   "execution_count": 2,
   "id": "56b38d47",
   "metadata": {},
   "outputs": [
    {
     "data": {
      "text/html": [
       "<div>\n",
       "<style scoped>\n",
       "    .dataframe tbody tr th:only-of-type {\n",
       "        vertical-align: middle;\n",
       "    }\n",
       "\n",
       "    .dataframe tbody tr th {\n",
       "        vertical-align: top;\n",
       "    }\n",
       "\n",
       "    .dataframe thead th {\n",
       "        text-align: right;\n",
       "    }\n",
       "</style>\n",
       "<table border=\"1\" class=\"dataframe\">\n",
       "  <thead>\n",
       "    <tr style=\"text-align: right;\">\n",
       "      <th></th>\n",
       "      <th>Title</th>\n",
       "      <th>Number of review</th>\n",
       "      <th>Catagory</th>\n",
       "      <th>Reveiw Comment</th>\n",
       "      <th>Popular food</th>\n",
       "      <th>Online Order</th>\n",
       "    </tr>\n",
       "  </thead>\n",
       "  <tbody>\n",
       "    <tr>\n",
       "      <th>0</th>\n",
       "      <td>All Stars Sports Bar &amp; Grill</td>\n",
       "      <td>21</td>\n",
       "      <td>Bar, Pub</td>\n",
       "      <td>“The fries were terrific also, hot crisp...”</td>\n",
       "      <td>fries</td>\n",
       "      <td>Yes</td>\n",
       "    </tr>\n",
       "    <tr>\n",
       "      <th>1</th>\n",
       "      <td>Olio e Piu</td>\n",
       "      <td>2,998</td>\n",
       "      <td>Italian, Pizza</td>\n",
       "      <td>“I love the food and our server Maria!”</td>\n",
       "      <td>filet mignon</td>\n",
       "      <td>Yes</td>\n",
       "    </tr>\n",
       "    <tr>\n",
       "      <th>2</th>\n",
       "      <td>Boucherie West Village</td>\n",
       "      <td>1,465</td>\n",
       "      <td>French, Steakhouse</td>\n",
       "      <td>“The filet mignon was impeccable and the musse...</td>\n",
       "      <td>lobster</td>\n",
       "      <td>Yes</td>\n",
       "    </tr>\n",
       "    <tr>\n",
       "      <th>3</th>\n",
       "      <td>Club A Steakhouse</td>\n",
       "      <td>4,413</td>\n",
       "      <td>American, Steakhouse</td>\n",
       "      <td>“My seafood cocktail had wonderful large lump ...</td>\n",
       "      <td>cacio e pepe</td>\n",
       "      <td>Yes</td>\n",
       "    </tr>\n",
       "    <tr>\n",
       "      <th>4</th>\n",
       "      <td>Piccola Cucina Estiatorio</td>\n",
       "      <td>403</td>\n",
       "      <td>Italian, Sicilian</td>\n",
       "      <td>“penne al pomodoro and bucatini cacio e pepe w...</td>\n",
       "      <td>mussels</td>\n",
       "      <td>Yes</td>\n",
       "    </tr>\n",
       "  </tbody>\n",
       "</table>\n",
       "</div>"
      ],
      "text/plain": [
       "                          Title Number of review              Catagory  \\\n",
       "0  All Stars Sports Bar & Grill               21              Bar, Pub   \n",
       "1                    Olio e Piu            2,998        Italian, Pizza   \n",
       "2        Boucherie West Village            1,465    French, Steakhouse   \n",
       "3             Club A Steakhouse            4,413  American, Steakhouse   \n",
       "4     Piccola Cucina Estiatorio              403     Italian, Sicilian   \n",
       "\n",
       "                                      Reveiw Comment  Popular food  \\\n",
       "0       “The fries were terrific also, hot crisp...”         fries   \n",
       "1            “I love the food and our server Maria!”  filet mignon   \n",
       "2  “The filet mignon was impeccable and the musse...       lobster   \n",
       "3  “My seafood cocktail had wonderful large lump ...  cacio e pepe   \n",
       "4  “penne al pomodoro and bucatini cacio e pepe w...       mussels   \n",
       "\n",
       "  Online Order  \n",
       "0          Yes  \n",
       "1          Yes  \n",
       "2          Yes  \n",
       "3          Yes  \n",
       "4          Yes  "
      ]
     },
     "execution_count": 2,
     "metadata": {},
     "output_type": "execute_result"
    }
   ],
   "source": [
    "df = pd.read_csv('Desktop/trip.csv')\n",
    "df.head()"
   ]
  },
  {
   "cell_type": "code",
   "execution_count": 3,
   "id": "5cb8c0ae",
   "metadata": {},
   "outputs": [
    {
     "data": {
      "text/html": [
       "<div>\n",
       "<style scoped>\n",
       "    .dataframe tbody tr th:only-of-type {\n",
       "        vertical-align: middle;\n",
       "    }\n",
       "\n",
       "    .dataframe tbody tr th {\n",
       "        vertical-align: top;\n",
       "    }\n",
       "\n",
       "    .dataframe thead th {\n",
       "        text-align: right;\n",
       "    }\n",
       "</style>\n",
       "<table border=\"1\" class=\"dataframe\">\n",
       "  <thead>\n",
       "    <tr style=\"text-align: right;\">\n",
       "      <th></th>\n",
       "      <th>Title</th>\n",
       "      <th>Number of review</th>\n",
       "      <th>Catagory</th>\n",
       "      <th>Reveiw Comment</th>\n",
       "      <th>Popular food</th>\n",
       "      <th>Online Order</th>\n",
       "    </tr>\n",
       "  </thead>\n",
       "  <tbody>\n",
       "    <tr>\n",
       "      <th>count</th>\n",
       "      <td>10397</td>\n",
       "      <td>10397</td>\n",
       "      <td>10397</td>\n",
       "      <td>10397</td>\n",
       "      <td>10397</td>\n",
       "      <td>10397</td>\n",
       "    </tr>\n",
       "    <tr>\n",
       "      <th>unique</th>\n",
       "      <td>7237</td>\n",
       "      <td>857</td>\n",
       "      <td>560</td>\n",
       "      <td>6029</td>\n",
       "      <td>539</td>\n",
       "      <td>4</td>\n",
       "    </tr>\n",
       "    <tr>\n",
       "      <th>top</th>\n",
       "      <td>Royal 35 Steakhouse</td>\n",
       "      <td>No</td>\n",
       "      <td>Italian, Pizza</td>\n",
       "      <td>No</td>\n",
       "      <td>No</td>\n",
       "      <td>No</td>\n",
       "    </tr>\n",
       "    <tr>\n",
       "      <th>freq</th>\n",
       "      <td>82</td>\n",
       "      <td>1511</td>\n",
       "      <td>822</td>\n",
       "      <td>2199</td>\n",
       "      <td>7709</td>\n",
       "      <td>5729</td>\n",
       "    </tr>\n",
       "  </tbody>\n",
       "</table>\n",
       "</div>"
      ],
      "text/plain": [
       "                      Title Number of review        Catagory Reveiw Comment  \\\n",
       "count                 10397            10397           10397          10397   \n",
       "unique                 7237              857             560           6029   \n",
       "top     Royal 35 Steakhouse               No  Italian, Pizza             No   \n",
       "freq                     82             1511             822           2199   \n",
       "\n",
       "       Popular food Online Order  \n",
       "count         10397        10397  \n",
       "unique          539            4  \n",
       "top              No           No  \n",
       "freq           7709         5729  "
      ]
     },
     "execution_count": 3,
     "metadata": {},
     "output_type": "execute_result"
    }
   ],
   "source": [
    "df.describe()"
   ]
  },
  {
   "cell_type": "code",
   "execution_count": 4,
   "id": "c6fa62f0",
   "metadata": {},
   "outputs": [
    {
     "data": {
      "text/html": [
       "<div>\n",
       "<style scoped>\n",
       "    .dataframe tbody tr th:only-of-type {\n",
       "        vertical-align: middle;\n",
       "    }\n",
       "\n",
       "    .dataframe tbody tr th {\n",
       "        vertical-align: top;\n",
       "    }\n",
       "\n",
       "    .dataframe thead th {\n",
       "        text-align: right;\n",
       "    }\n",
       "</style>\n",
       "<table border=\"1\" class=\"dataframe\">\n",
       "  <thead>\n",
       "    <tr style=\"text-align: right;\">\n",
       "      <th></th>\n",
       "      <th>Title</th>\n",
       "      <th>Number of review</th>\n",
       "      <th>Catagory</th>\n",
       "      <th>Reveiw Comment</th>\n",
       "      <th>Popular food</th>\n",
       "      <th>Online Order</th>\n",
       "    </tr>\n",
       "  </thead>\n",
       "  <tbody>\n",
       "    <tr>\n",
       "      <th>count</th>\n",
       "      <td>10397</td>\n",
       "      <td>10397</td>\n",
       "      <td>10397</td>\n",
       "      <td>10397</td>\n",
       "      <td>10397</td>\n",
       "      <td>10397</td>\n",
       "    </tr>\n",
       "    <tr>\n",
       "      <th>unique</th>\n",
       "      <td>7237</td>\n",
       "      <td>857</td>\n",
       "      <td>560</td>\n",
       "      <td>6029</td>\n",
       "      <td>539</td>\n",
       "      <td>4</td>\n",
       "    </tr>\n",
       "    <tr>\n",
       "      <th>top</th>\n",
       "      <td>Royal 35 Steakhouse</td>\n",
       "      <td>No</td>\n",
       "      <td>Italian, Pizza</td>\n",
       "      <td>No</td>\n",
       "      <td>No</td>\n",
       "      <td>No</td>\n",
       "    </tr>\n",
       "    <tr>\n",
       "      <th>freq</th>\n",
       "      <td>82</td>\n",
       "      <td>1511</td>\n",
       "      <td>822</td>\n",
       "      <td>2199</td>\n",
       "      <td>7709</td>\n",
       "      <td>5729</td>\n",
       "    </tr>\n",
       "  </tbody>\n",
       "</table>\n",
       "</div>"
      ],
      "text/plain": [
       "                      Title Number of review        Catagory Reveiw Comment  \\\n",
       "count                 10397            10397           10397          10397   \n",
       "unique                 7237              857             560           6029   \n",
       "top     Royal 35 Steakhouse               No  Italian, Pizza             No   \n",
       "freq                     82             1511             822           2199   \n",
       "\n",
       "       Popular food Online Order  \n",
       "count         10397        10397  \n",
       "unique          539            4  \n",
       "top              No           No  \n",
       "freq           7709         5729  "
      ]
     },
     "execution_count": 4,
     "metadata": {},
     "output_type": "execute_result"
    }
   ],
   "source": [
    "df.describe(include='O')"
   ]
  },
  {
   "cell_type": "code",
   "execution_count": 5,
   "id": "72d2bbb8",
   "metadata": {},
   "outputs": [
    {
     "data": {
      "text/plain": [
       "Title               object\n",
       "Number of review    object\n",
       "Catagory            object\n",
       "Reveiw Comment      object\n",
       "Popular food        object\n",
       "Online Order        object\n",
       "dtype: object"
      ]
     },
     "execution_count": 5,
     "metadata": {},
     "output_type": "execute_result"
    }
   ],
   "source": [
    "df.dtypes"
   ]
  },
  {
   "cell_type": "code",
   "execution_count": 6,
   "id": "d23bc83a",
   "metadata": {},
   "outputs": [
    {
     "name": "stdout",
     "output_type": "stream",
     "text": [
      "Index(['Title', 'Number of review', 'Catagory', 'Reveiw Comment',\n",
      "       'Popular food', 'Online Order'],\n",
      "      dtype='object')\n"
     ]
    }
   ],
   "source": [
    "#Lets count and look at columns names\n",
    "print(df.columns)\n",
    "\n",
    "#We have 6 columns"
   ]
  },
  {
   "cell_type": "code",
   "execution_count": 7,
   "id": "024d9a1c",
   "metadata": {},
   "outputs": [
    {
     "data": {
      "text/plain": [
       "Title               0\n",
       "Number of review    0\n",
       "Catagory            0\n",
       "Reveiw Comment      0\n",
       "Popular food        0\n",
       "Online Order        0\n",
       "dtype: int64"
      ]
     },
     "execution_count": 7,
     "metadata": {},
     "output_type": "execute_result"
    }
   ],
   "source": [
    "#checking null values in the dataset:\n",
    "\n",
    "df.isna().sum()"
   ]
  },
  {
   "cell_type": "code",
   "execution_count": 8,
   "id": "07a12455",
   "metadata": {},
   "outputs": [
    {
     "data": {
      "text/plain": [
       "647"
      ]
     },
     "execution_count": 8,
     "metadata": {},
     "output_type": "execute_result"
    }
   ],
   "source": [
    "df.duplicated().sum()"
   ]
  },
  {
   "cell_type": "code",
   "execution_count": 9,
   "id": "cf74e499",
   "metadata": {},
   "outputs": [
    {
     "data": {
      "text/plain": [
       "No                       7709\n",
       "tuna                      129\n",
       "ribeye                    127\n",
       "Steak                      83\n",
       "salad                      78\n",
       "steak                      74\n",
       "lobster bisque             68\n",
       "carbonara                  65\n",
       "fries                      62\n",
       "Dumplings                  57\n",
       "sliders                    56\n",
       "pizza                      56\n",
       "vegetarian                 55\n",
       "Crab Cakes                 54\n",
       "Pizza                      53\n",
       "sashimi                    53\n",
       "pasta                      52\n",
       "dumplings                  51\n",
       "seafood paella             48\n",
       "Sushi                      46\n",
       "French Onion Soup          43\n",
       "Garden                     37\n",
       "gyoza                      36\n",
       "French toast               35\n",
       "paella                     35\n",
       "An Italian restaurant      34\n",
       "burger                     31\n",
       "bar                        29\n",
       "salmon                     29\n",
       "bagels                     27\n",
       "Name: Popular food, dtype: int64"
      ]
     },
     "execution_count": 9,
     "metadata": {},
     "output_type": "execute_result"
    }
   ],
   "source": [
    "df['Popular food'].value_counts().head(30)"
   ]
  },
  {
   "cell_type": "code",
   "execution_count": 10,
   "id": "285158e5",
   "metadata": {},
   "outputs": [
    {
     "data": {
      "text/plain": [
       "Italian, Pizza                822\n",
       "American                      657\n",
       "Chinese, Asian                485\n",
       "American, Steakhouse          453\n",
       "American, Bar                 426\n",
       "                             ... \n",
       "European, Central American      1\n",
       "Greek, Wine Bar                 1\n",
       "British, Central Asian          1\n",
       "African, International          1\n",
       "Tuscan, Central-Italian         1\n",
       "Name: Catagory, Length: 560, dtype: int64"
      ]
     },
     "execution_count": 10,
     "metadata": {},
     "output_type": "execute_result"
    }
   ],
   "source": [
    "df['Catagory'].value_counts()"
   ]
  },
  {
   "cell_type": "code",
   "execution_count": 11,
   "id": "00f50741",
   "metadata": {},
   "outputs": [
    {
     "data": {
      "text/plain": [
       "Italian, Pizza                822\n",
       "American                      657\n",
       "Chinese, Asian                485\n",
       "American, Steakhouse          453\n",
       "American, Bar                 426\n",
       "                             ... \n",
       "European, Central American      1\n",
       "Greek, Wine Bar                 1\n",
       "British, Central Asian          1\n",
       "African, International          1\n",
       "Tuscan, Central-Italian         1\n",
       "Name: Catagory, Length: 560, dtype: int64"
      ]
     },
     "execution_count": 11,
     "metadata": {},
     "output_type": "execute_result"
    }
   ],
   "source": [
    "df['Catagory'].value_counts()"
   ]
  },
  {
   "cell_type": "code",
   "execution_count": 12,
   "id": "74a98af0",
   "metadata": {},
   "outputs": [
    {
     "name": "stdout",
     "output_type": "stream",
     "text": [
      "Royal 35 Steakhouse        82\n",
      "Little Alley               74\n",
      "Ben & Jack's Steakhouse    68\n",
      "Sea Fire Grill             67\n",
      "Tabernacle Steakhouse      66\n",
      "                           ..\n",
      "Sido Falafel & More         1\n",
      "DOMODOMO                    1\n",
      "Stromboli Pizza INC         1\n",
      "Il Mulino Prime - Soho      1\n",
      "The Sandwich Cafe           1\n",
      "Name: Title, Length: 7237, dtype: int64\n"
     ]
    }
   ],
   "source": [
    "print(df['Title'].value_counts() )"
   ]
  },
  {
   "cell_type": "code",
   "execution_count": 13,
   "id": "456be154",
   "metadata": {},
   "outputs": [
    {
     "data": {
      "text/plain": [
       "array(['All Stars Sports Bar & Grill', 'Olio e Piu',\n",
       "       'Boucherie West Village', ..., 'The Sandwich Slut',\n",
       "       'The Sandwich Post', 'The Sandwich Cafe'], dtype=object)"
      ]
     },
     "execution_count": 13,
     "metadata": {},
     "output_type": "execute_result"
    }
   ],
   "source": [
    "df['Title'].unique()"
   ]
  },
  {
   "cell_type": "code",
   "execution_count": 14,
   "id": "f01b10ba",
   "metadata": {
    "scrolled": true
   },
   "outputs": [
    {
     "name": "stdout",
     "output_type": "stream",
     "text": [
      "No          1511\n",
      "1 review     688\n",
      "2            460\n",
      "3            413\n",
      "7            282\n",
      "            ... \n",
      "1,493          1\n",
      "561            1\n",
      "630            1\n",
      "824            1\n",
      "668            1\n",
      "Name: Number of review, Length: 857, dtype: int64\n"
     ]
    }
   ],
   "source": [
    "print(df['Number of review'].value_counts() )\n",
    "#df = df.sort_values(\"balance\", ascending=False)  "
   ]
  },
  {
   "cell_type": "code",
   "execution_count": 15,
   "id": "7ef47103",
   "metadata": {},
   "outputs": [
    {
     "name": "stderr",
     "output_type": "stream",
     "text": [
      "C:\\Users\\dvjp3\\AppData\\Local\\Temp\\ipykernel_67092\\686730176.py:2: FutureWarning: pivot_table dropped a column because it failed to aggregate. This behavior is deprecated and will raise in a future version of pandas. Select only the columns that can be aggregated.\n",
      "  df.pivot_table(values=['Number of review'], index=['Online Order'])\n"
     ]
    },
    {
     "data": {
      "text/html": [
       "<div>\n",
       "<style scoped>\n",
       "    .dataframe tbody tr th:only-of-type {\n",
       "        vertical-align: middle;\n",
       "    }\n",
       "\n",
       "    .dataframe tbody tr th {\n",
       "        vertical-align: top;\n",
       "    }\n",
       "\n",
       "    .dataframe thead th {\n",
       "        text-align: right;\n",
       "    }\n",
       "</style>\n",
       "<table border=\"1\" class=\"dataframe\">\n",
       "  <thead>\n",
       "    <tr style=\"text-align: right;\">\n",
       "      <th></th>\n",
       "    </tr>\n",
       "    <tr>\n",
       "      <th>Online Order</th>\n",
       "    </tr>\n",
       "  </thead>\n",
       "  <tbody>\n",
       "    <tr>\n",
       "      <th>No</th>\n",
       "    </tr>\n",
       "    <tr>\n",
       "      <th>Reserve</th>\n",
       "    </tr>\n",
       "    <tr>\n",
       "      <th>See events</th>\n",
       "    </tr>\n",
       "    <tr>\n",
       "      <th>Yes</th>\n",
       "    </tr>\n",
       "  </tbody>\n",
       "</table>\n",
       "</div>"
      ],
      "text/plain": [
       "Empty DataFrame\n",
       "Columns: []\n",
       "Index: [No, Reserve, See events, Yes]"
      ]
     },
     "execution_count": 15,
     "metadata": {},
     "output_type": "execute_result"
    }
   ],
   "source": [
    "#df.groupby('Online Order').agg({'Number of review':'mean'})\n",
    "df.pivot_table(values=['Number of review'], index=['Online Order'])"
   ]
  },
  {
   "cell_type": "code",
   "execution_count": 16,
   "id": "cf87857c",
   "metadata": {},
   "outputs": [],
   "source": [
    "# converting the health column to string instead of integer in existing column: \n",
    "df = df.replace({\n",
    "    'Online Order': {\n",
    "        'Reserve': 'No',\n",
    "        'See events':'No'\n",
    "    }\n",
    "})"
   ]
  },
  {
   "cell_type": "code",
   "execution_count": 17,
   "id": "4affbde4",
   "metadata": {},
   "outputs": [
    {
     "name": "stderr",
     "output_type": "stream",
     "text": [
      "C:\\Users\\dvjp3\\AppData\\Local\\Temp\\ipykernel_67092\\2195599404.py:1: FutureWarning: pivot_table dropped a column because it failed to aggregate. This behavior is deprecated and will raise in a future version of pandas. Select only the columns that can be aggregated.\n",
      "  df.pivot_table(values=['Number of review'], index=['Online Order', 'Title'])\n"
     ]
    },
    {
     "data": {
      "text/html": [
       "<div>\n",
       "<style scoped>\n",
       "    .dataframe tbody tr th:only-of-type {\n",
       "        vertical-align: middle;\n",
       "    }\n",
       "\n",
       "    .dataframe tbody tr th {\n",
       "        vertical-align: top;\n",
       "    }\n",
       "\n",
       "    .dataframe thead th {\n",
       "        text-align: right;\n",
       "    }\n",
       "</style>\n",
       "<table border=\"1\" class=\"dataframe\">\n",
       "  <thead>\n",
       "    <tr style=\"text-align: right;\">\n",
       "      <th></th>\n",
       "      <th></th>\n",
       "    </tr>\n",
       "    <tr>\n",
       "      <th>Online Order</th>\n",
       "      <th>Title</th>\n",
       "    </tr>\n",
       "  </thead>\n",
       "  <tbody>\n",
       "    <tr>\n",
       "      <th rowspan=\"5\" valign=\"top\">No</th>\n",
       "      <th>#1 Deli Gourmet</th>\n",
       "    </tr>\n",
       "    <tr>\n",
       "      <th>#VALUE!</th>\n",
       "    </tr>\n",
       "    <tr>\n",
       "      <th>&amp;Pizza</th>\n",
       "    </tr>\n",
       "    <tr>\n",
       "      <th>&amp;pizza - Astor Place</th>\n",
       "    </tr>\n",
       "    <tr>\n",
       "      <th>&amp;pizza - NoMad</th>\n",
       "    </tr>\n",
       "    <tr>\n",
       "      <th>...</th>\n",
       "      <th>...</th>\n",
       "    </tr>\n",
       "    <tr>\n",
       "      <th rowspan=\"5\" valign=\"top\">Yes</th>\n",
       "      <th>sushi AMANE</th>\n",
       "    </tr>\n",
       "    <tr>\n",
       "      <th>sweetgreen</th>\n",
       "    </tr>\n",
       "    <tr>\n",
       "      <th>thai son</th>\n",
       "    </tr>\n",
       "    <tr>\n",
       "      <th>the Junction</th>\n",
       "    </tr>\n",
       "    <tr>\n",
       "      <th>the Press Lounge</th>\n",
       "    </tr>\n",
       "  </tbody>\n",
       "</table>\n",
       "<p>7542 rows × 0 columns</p>\n",
       "</div>"
      ],
      "text/plain": [
       "Empty DataFrame\n",
       "Columns: []\n",
       "Index: [(No, #1 Deli Gourmet), (No, #VALUE!), (No, &Pizza), (No, &pizza - Astor Place), (No, &pizza - NoMad), (No, 10 Degrees), (No, 1020 Bar), (No, 10th Ave Pizza), (No, 111 Gourmet Deli), (No, 11th Street Bar), (No, 123BSB Harlem), (No, 12th Street Ale House), (No, 16 Handles), (No, 1st Avenue Gourmet & Deli), (No, 1st Avenue Gourmet Deli), (No, 2 Bros Pizza), (No, 2037 Meat & Grocery Deli Inc.), (No, 22 Thai Cuisine), (No, 230 Fifth), (No, 2Bros Pizza), (No, 2Dutcheese), (No, 2nd Avenue Deli), (No, 3 Giovani), (No, 3 Guys Restaurant), (No, 3 Times), (No, 3 brothers Hala pizza and chicken), (No, 33 Gourmet Deli), (No, 3D’s Castle Restaurant), (No, 4 Charles Prime Rib), (No, 44 & X), (No, 440 E 138th St, The Bronx, NY 10454), (No, 456 Shanghai Cuisine), (No, 48 Lounge), (No, 5 Boroughs Pizza), (No, 5 Napkin Burger), (No, 519), (No, 53 Nyc), (No, 55 Bar), (No, 5eleven), (No, 5ive Spice Les), (No, 5th & Mad), (No, 63 Clinton), (No, 696 Gourmet Deli), (No, 6B Restaurant), (No, 7 Brothers Deli), (No, 7 Elephants), (No, 7-Eleven), (No, 77 Burger), (No, 787 Coffee Co.), (No, 7th Ave Mike Food), (No, 83 1/2 Restaurant), (No, 88 Palace), (No, 886), (No, 8th Street Wine Cellar), (No, 99 Cent Delicious Pizza), (No, 99 Cent Fresh Pizza), (No, 99 Cent Hot Pizza & Grill), (No, 99 Cent Village Pizza), (No, 99 Cents Delicious Pizza 2), (No, 9th Ave Gourmet Deli), (No, A & P Pharmacy), (No, A A Jing), (No, A Little Taste), (No, A Pasta Bar), (No, A Plus Thai Place), (No, A Saffron Thread), (No, A Slice of New York), (No, A Taste of Seafood), (No, A Tavola Italian Diner), (No, A-1 Pizza Shop), (No, A-Jiao), (No, A-N-E cafe), (No, A.Cafe), (No, A.R.T. NoMad (Arlo Roof Top)), (No, A.R.T. SoHo), (No, ABA Turkish Restaurant), (No, ABC Cocina), (No, ABC Home Grown), (No, AKB Hotel Bar), (No, AM-PM Deli Grocery), (No, AOA Bar and Grill), (No, AOC East), (No, ARIARI), (No, AWOL Bar & Grill), (No, Aamber Indian Vegan), (No, Aangan Indian Cuisine), (No, Abace Sush), (No, Abacky), (No, Abbey Tavern), (No, Abiko Curry), (No, Abitino's Pizza), (No, Abitino's Pizzeria), (No, Abumi Sushi), (No, Aburiya Kinnosuke), (No, Abyssinia Restaurant), (No, Accent Restaurant & Bar), (No, Ace's), (No, Acerra Brick Oven Pizza), (No, Acme), (No, Acosta Deli Restaurant), ...]\n",
       "\n",
       "[7542 rows x 0 columns]"
      ]
     },
     "execution_count": 17,
     "metadata": {},
     "output_type": "execute_result"
    }
   ],
   "source": [
    "df.pivot_table(values=['Number of review'], index=['Online Order', 'Title'])"
   ]
  },
  {
   "cell_type": "code",
   "execution_count": 18,
   "id": "d7f1c853",
   "metadata": {},
   "outputs": [
    {
     "data": {
      "text/plain": [
       "Italian, Pizza                0.079061\n",
       "American                      0.063191\n",
       "Chinese, Asian                0.046648\n",
       "American, Steakhouse          0.043570\n",
       "American, Bar                 0.040973\n",
       "                                ...   \n",
       "European, Central American    0.000096\n",
       "Greek, Wine Bar               0.000096\n",
       "British, Central Asian        0.000096\n",
       "African, International        0.000096\n",
       "Tuscan, Central-Italian       0.000096\n",
       "Name: Catagory, Length: 560, dtype: float64"
      ]
     },
     "execution_count": 18,
     "metadata": {},
     "output_type": "execute_result"
    }
   ],
   "source": [
    "df['Catagory'].value_counts(\"#VALUE!\")"
   ]
  },
  {
   "cell_type": "code",
   "execution_count": 19,
   "id": "4a078d37",
   "metadata": {},
   "outputs": [
    {
     "data": {
      "text/plain": [
       "No     0.551794\n",
       "Yes    0.448206\n",
       "Name: Online Order, dtype: float64"
      ]
     },
     "execution_count": 19,
     "metadata": {},
     "output_type": "execute_result"
    }
   ],
   "source": [
    "df['Online Order'].value_counts(\"#VALUE!\")"
   ]
  },
  {
   "cell_type": "code",
   "execution_count": 20,
   "id": "fe935647",
   "metadata": {},
   "outputs": [
    {
     "data": {
      "text/plain": [
       "No          0.145330\n",
       "1 review    0.066173\n",
       "2           0.044244\n",
       "3           0.039723\n",
       "7           0.027123\n",
       "              ...   \n",
       "1,493       0.000096\n",
       "561         0.000096\n",
       "630         0.000096\n",
       "824         0.000096\n",
       "668         0.000096\n",
       "Name: Number of review, Length: 857, dtype: float64"
      ]
     },
     "execution_count": 20,
     "metadata": {},
     "output_type": "execute_result"
    }
   ],
   "source": [
    "df['Number of review'].value_counts(\"#VALUE!\")"
   ]
  },
  {
   "cell_type": "code",
   "execution_count": 21,
   "id": "b67c4836",
   "metadata": {},
   "outputs": [
    {
     "data": {
      "text/plain": [
       "No                       0.741464\n",
       "tuna                     0.012407\n",
       "ribeye                   0.012215\n",
       "Steak                    0.007983\n",
       "salad                    0.007502\n",
       "                           ...   \n",
       "an Italian restaurant    0.000096\n",
       "Huevos rancheros         0.000096\n",
       "Great Mexican Food       0.000096\n",
       "Yorkshire pudding        0.000096\n",
       "soup dumplings           0.000096\n",
       "Name: Popular food, Length: 539, dtype: float64"
      ]
     },
     "execution_count": 21,
     "metadata": {},
     "output_type": "execute_result"
    }
   ],
   "source": [
    "df['Popular food'].value_counts(\"#VALUE!\")"
   ]
  },
  {
   "cell_type": "code",
   "execution_count": 22,
   "id": "4ce050fc",
   "metadata": {},
   "outputs": [
    {
     "data": {
      "text/html": [
       "<div>\n",
       "<style scoped>\n",
       "    .dataframe tbody tr th:only-of-type {\n",
       "        vertical-align: middle;\n",
       "    }\n",
       "\n",
       "    .dataframe tbody tr th {\n",
       "        vertical-align: top;\n",
       "    }\n",
       "\n",
       "    .dataframe thead th {\n",
       "        text-align: right;\n",
       "    }\n",
       "</style>\n",
       "<table border=\"1\" class=\"dataframe\">\n",
       "  <thead>\n",
       "    <tr style=\"text-align: right;\">\n",
       "      <th></th>\n",
       "      <th>Title</th>\n",
       "      <th>Number of review</th>\n",
       "      <th>Catagory</th>\n",
       "      <th>Reveiw Comment</th>\n",
       "      <th>Popular food</th>\n",
       "      <th>Online Order</th>\n",
       "    </tr>\n",
       "  </thead>\n",
       "  <tbody>\n",
       "    <tr>\n",
       "      <th>9670</th>\n",
       "      <td>#VALUE!</td>\n",
       "      <td>No</td>\n",
       "      <td>Seafood, Soups</td>\n",
       "      <td>No</td>\n",
       "      <td>No</td>\n",
       "      <td>No</td>\n",
       "    </tr>\n",
       "  </tbody>\n",
       "</table>\n",
       "</div>"
      ],
      "text/plain": [
       "        Title Number of review        Catagory Reveiw Comment Popular food  \\\n",
       "9670  #VALUE!               No  Seafood, Soups             No           No   \n",
       "\n",
       "     Online Order  \n",
       "9670           No  "
      ]
     },
     "execution_count": 22,
     "metadata": {},
     "output_type": "execute_result"
    }
   ],
   "source": [
    "df[df['Title']==\"#VALUE!\"]"
   ]
  },
  {
   "cell_type": "code",
   "execution_count": 23,
   "id": "21351073",
   "metadata": {},
   "outputs": [],
   "source": [
    "df=df.drop(df[df['Title'] =='#VALUE!'].index)"
   ]
  },
  {
   "cell_type": "code",
   "execution_count": 24,
   "id": "829cffae",
   "metadata": {},
   "outputs": [
    {
     "data": {
      "text/html": [
       "<div>\n",
       "<style scoped>\n",
       "    .dataframe tbody tr th:only-of-type {\n",
       "        vertical-align: middle;\n",
       "    }\n",
       "\n",
       "    .dataframe tbody tr th {\n",
       "        vertical-align: top;\n",
       "    }\n",
       "\n",
       "    .dataframe thead th {\n",
       "        text-align: right;\n",
       "    }\n",
       "</style>\n",
       "<table border=\"1\" class=\"dataframe\">\n",
       "  <thead>\n",
       "    <tr style=\"text-align: right;\">\n",
       "      <th></th>\n",
       "      <th>Title</th>\n",
       "      <th>Number of review</th>\n",
       "      <th>Catagory</th>\n",
       "      <th>Reveiw Comment</th>\n",
       "      <th>Popular food</th>\n",
       "      <th>Online Order</th>\n",
       "    </tr>\n",
       "  </thead>\n",
       "  <tbody>\n",
       "  </tbody>\n",
       "</table>\n",
       "</div>"
      ],
      "text/plain": [
       "Empty DataFrame\n",
       "Columns: [Title, Number of review, Catagory, Reveiw Comment, Popular food, Online Order]\n",
       "Index: []"
      ]
     },
     "execution_count": 24,
     "metadata": {},
     "output_type": "execute_result"
    }
   ],
   "source": [
    "df[df['Title']==\"#VALUE!\"]"
   ]
  },
  {
   "cell_type": "code",
   "execution_count": 25,
   "id": "2e00d59e",
   "metadata": {},
   "outputs": [
    {
     "data": {
      "text/html": [
       "<div>\n",
       "<style scoped>\n",
       "    .dataframe tbody tr th:only-of-type {\n",
       "        vertical-align: middle;\n",
       "    }\n",
       "\n",
       "    .dataframe tbody tr th {\n",
       "        vertical-align: top;\n",
       "    }\n",
       "\n",
       "    .dataframe thead th {\n",
       "        text-align: right;\n",
       "    }\n",
       "</style>\n",
       "<table border=\"1\" class=\"dataframe\">\n",
       "  <thead>\n",
       "    <tr style=\"text-align: right;\">\n",
       "      <th></th>\n",
       "      <th>Title</th>\n",
       "      <th>Number of review</th>\n",
       "      <th>Catagory</th>\n",
       "      <th>Reveiw Comment</th>\n",
       "      <th>Popular food</th>\n",
       "      <th>Online Order</th>\n",
       "    </tr>\n",
       "  </thead>\n",
       "  <tbody>\n",
       "    <tr>\n",
       "      <th>0</th>\n",
       "      <td>All Stars Sports Bar &amp; Grill</td>\n",
       "      <td>21</td>\n",
       "      <td>Bar, Pub</td>\n",
       "      <td>“The fries were terrific also, hot crisp...”</td>\n",
       "      <td>fries</td>\n",
       "      <td>Yes</td>\n",
       "    </tr>\n",
       "    <tr>\n",
       "      <th>1</th>\n",
       "      <td>Olio e Piu</td>\n",
       "      <td>2,998</td>\n",
       "      <td>Italian, Pizza</td>\n",
       "      <td>“I love the food and our server Maria!”</td>\n",
       "      <td>filet mignon</td>\n",
       "      <td>Yes</td>\n",
       "    </tr>\n",
       "    <tr>\n",
       "      <th>2</th>\n",
       "      <td>Boucherie West Village</td>\n",
       "      <td>1,465</td>\n",
       "      <td>French, Steakhouse</td>\n",
       "      <td>“The filet mignon was impeccable and the musse...</td>\n",
       "      <td>lobster</td>\n",
       "      <td>Yes</td>\n",
       "    </tr>\n",
       "    <tr>\n",
       "      <th>3</th>\n",
       "      <td>Club A Steakhouse</td>\n",
       "      <td>4,413</td>\n",
       "      <td>American, Steakhouse</td>\n",
       "      <td>“My seafood cocktail had wonderful large lump ...</td>\n",
       "      <td>cacio e pepe</td>\n",
       "      <td>Yes</td>\n",
       "    </tr>\n",
       "    <tr>\n",
       "      <th>4</th>\n",
       "      <td>Piccola Cucina Estiatorio</td>\n",
       "      <td>403</td>\n",
       "      <td>Italian, Sicilian</td>\n",
       "      <td>“penne al pomodoro and bucatini cacio e pepe w...</td>\n",
       "      <td>mussels</td>\n",
       "      <td>Yes</td>\n",
       "    </tr>\n",
       "    <tr>\n",
       "      <th>...</th>\n",
       "      <td>...</td>\n",
       "      <td>...</td>\n",
       "      <td>...</td>\n",
       "      <td>...</td>\n",
       "      <td>...</td>\n",
       "      <td>...</td>\n",
       "    </tr>\n",
       "    <tr>\n",
       "      <th>10392</th>\n",
       "      <td>The Sandwich Slut</td>\n",
       "      <td>No</td>\n",
       "      <td>Mediterranean, Turkish</td>\n",
       "      <td>No</td>\n",
       "      <td>No</td>\n",
       "      <td>No</td>\n",
       "    </tr>\n",
       "    <tr>\n",
       "      <th>10393</th>\n",
       "      <td>The Sandwich Slut</td>\n",
       "      <td>No</td>\n",
       "      <td>Mediterranean, Turkish</td>\n",
       "      <td>No</td>\n",
       "      <td>No</td>\n",
       "      <td>No</td>\n",
       "    </tr>\n",
       "    <tr>\n",
       "      <th>10394</th>\n",
       "      <td>The Sandwich Post</td>\n",
       "      <td>No</td>\n",
       "      <td>Mediterranean, Turkish</td>\n",
       "      <td>No</td>\n",
       "      <td>No</td>\n",
       "      <td>No</td>\n",
       "    </tr>\n",
       "    <tr>\n",
       "      <th>10395</th>\n",
       "      <td>The Sandwich Cafe</td>\n",
       "      <td>No</td>\n",
       "      <td>Mediterranean, Turkish</td>\n",
       "      <td>No</td>\n",
       "      <td>No</td>\n",
       "      <td>No</td>\n",
       "    </tr>\n",
       "    <tr>\n",
       "      <th>10396</th>\n",
       "      <td>Lezzet Mediterranean Turkish Restaurant</td>\n",
       "      <td>No</td>\n",
       "      <td>Mediterranean, Turkish</td>\n",
       "      <td>No</td>\n",
       "      <td>No</td>\n",
       "      <td>No</td>\n",
       "    </tr>\n",
       "  </tbody>\n",
       "</table>\n",
       "<p>10396 rows × 6 columns</p>\n",
       "</div>"
      ],
      "text/plain": [
       "                                         Title Number of review  \\\n",
       "0                 All Stars Sports Bar & Grill               21   \n",
       "1                                   Olio e Piu            2,998   \n",
       "2                       Boucherie West Village            1,465   \n",
       "3                            Club A Steakhouse            4,413   \n",
       "4                    Piccola Cucina Estiatorio              403   \n",
       "...                                        ...              ...   \n",
       "10392                        The Sandwich Slut               No   \n",
       "10393                        The Sandwich Slut               No   \n",
       "10394                        The Sandwich Post               No   \n",
       "10395                        The Sandwich Cafe               No   \n",
       "10396  Lezzet Mediterranean Turkish Restaurant               No   \n",
       "\n",
       "                     Catagory  \\\n",
       "0                    Bar, Pub   \n",
       "1              Italian, Pizza   \n",
       "2          French, Steakhouse   \n",
       "3        American, Steakhouse   \n",
       "4           Italian, Sicilian   \n",
       "...                       ...   \n",
       "10392  Mediterranean, Turkish   \n",
       "10393  Mediterranean, Turkish   \n",
       "10394  Mediterranean, Turkish   \n",
       "10395  Mediterranean, Turkish   \n",
       "10396  Mediterranean, Turkish   \n",
       "\n",
       "                                          Reveiw Comment  Popular food  \\\n",
       "0           “The fries were terrific also, hot crisp...”         fries   \n",
       "1                “I love the food and our server Maria!”  filet mignon   \n",
       "2      “The filet mignon was impeccable and the musse...       lobster   \n",
       "3      “My seafood cocktail had wonderful large lump ...  cacio e pepe   \n",
       "4      “penne al pomodoro and bucatini cacio e pepe w...       mussels   \n",
       "...                                                  ...           ...   \n",
       "10392                                                 No            No   \n",
       "10393                                                 No            No   \n",
       "10394                                                 No            No   \n",
       "10395                                                 No            No   \n",
       "10396                                                 No            No   \n",
       "\n",
       "      Online Order  \n",
       "0              Yes  \n",
       "1              Yes  \n",
       "2              Yes  \n",
       "3              Yes  \n",
       "4              Yes  \n",
       "...            ...  \n",
       "10392           No  \n",
       "10393           No  \n",
       "10394           No  \n",
       "10395           No  \n",
       "10396           No  \n",
       "\n",
       "[10396 rows x 6 columns]"
      ]
     },
     "execution_count": 25,
     "metadata": {},
     "output_type": "execute_result"
    }
   ],
   "source": [
    "df"
   ]
  },
  {
   "cell_type": "code",
   "execution_count": 26,
   "id": "aa82ec23",
   "metadata": {},
   "outputs": [],
   "source": [
    "df['n_Online Order']=df[\"Online Order\"].map({'Yes':1, 'No':0})"
   ]
  },
  {
   "cell_type": "code",
   "execution_count": 27,
   "id": "e2aa230a",
   "metadata": {},
   "outputs": [
    {
     "data": {
      "text/html": [
       "<div>\n",
       "<style scoped>\n",
       "    .dataframe tbody tr th:only-of-type {\n",
       "        vertical-align: middle;\n",
       "    }\n",
       "\n",
       "    .dataframe tbody tr th {\n",
       "        vertical-align: top;\n",
       "    }\n",
       "\n",
       "    .dataframe thead th {\n",
       "        text-align: right;\n",
       "    }\n",
       "</style>\n",
       "<table border=\"1\" class=\"dataframe\">\n",
       "  <thead>\n",
       "    <tr style=\"text-align: right;\">\n",
       "      <th></th>\n",
       "      <th>Title</th>\n",
       "      <th>Number of review</th>\n",
       "      <th>Catagory</th>\n",
       "      <th>Reveiw Comment</th>\n",
       "      <th>Popular food</th>\n",
       "      <th>Online Order</th>\n",
       "      <th>n_Online Order</th>\n",
       "    </tr>\n",
       "  </thead>\n",
       "  <tbody>\n",
       "    <tr>\n",
       "      <th>0</th>\n",
       "      <td>All Stars Sports Bar &amp; Grill</td>\n",
       "      <td>21</td>\n",
       "      <td>Bar, Pub</td>\n",
       "      <td>“The fries were terrific also, hot crisp...”</td>\n",
       "      <td>fries</td>\n",
       "      <td>Yes</td>\n",
       "      <td>1</td>\n",
       "    </tr>\n",
       "    <tr>\n",
       "      <th>1</th>\n",
       "      <td>Olio e Piu</td>\n",
       "      <td>2,998</td>\n",
       "      <td>Italian, Pizza</td>\n",
       "      <td>“I love the food and our server Maria!”</td>\n",
       "      <td>filet mignon</td>\n",
       "      <td>Yes</td>\n",
       "      <td>1</td>\n",
       "    </tr>\n",
       "    <tr>\n",
       "      <th>2</th>\n",
       "      <td>Boucherie West Village</td>\n",
       "      <td>1,465</td>\n",
       "      <td>French, Steakhouse</td>\n",
       "      <td>“The filet mignon was impeccable and the musse...</td>\n",
       "      <td>lobster</td>\n",
       "      <td>Yes</td>\n",
       "      <td>1</td>\n",
       "    </tr>\n",
       "    <tr>\n",
       "      <th>3</th>\n",
       "      <td>Club A Steakhouse</td>\n",
       "      <td>4,413</td>\n",
       "      <td>American, Steakhouse</td>\n",
       "      <td>“My seafood cocktail had wonderful large lump ...</td>\n",
       "      <td>cacio e pepe</td>\n",
       "      <td>Yes</td>\n",
       "      <td>1</td>\n",
       "    </tr>\n",
       "    <tr>\n",
       "      <th>4</th>\n",
       "      <td>Piccola Cucina Estiatorio</td>\n",
       "      <td>403</td>\n",
       "      <td>Italian, Sicilian</td>\n",
       "      <td>“penne al pomodoro and bucatini cacio e pepe w...</td>\n",
       "      <td>mussels</td>\n",
       "      <td>Yes</td>\n",
       "      <td>1</td>\n",
       "    </tr>\n",
       "    <tr>\n",
       "      <th>...</th>\n",
       "      <td>...</td>\n",
       "      <td>...</td>\n",
       "      <td>...</td>\n",
       "      <td>...</td>\n",
       "      <td>...</td>\n",
       "      <td>...</td>\n",
       "      <td>...</td>\n",
       "    </tr>\n",
       "    <tr>\n",
       "      <th>10392</th>\n",
       "      <td>The Sandwich Slut</td>\n",
       "      <td>No</td>\n",
       "      <td>Mediterranean, Turkish</td>\n",
       "      <td>No</td>\n",
       "      <td>No</td>\n",
       "      <td>No</td>\n",
       "      <td>0</td>\n",
       "    </tr>\n",
       "    <tr>\n",
       "      <th>10393</th>\n",
       "      <td>The Sandwich Slut</td>\n",
       "      <td>No</td>\n",
       "      <td>Mediterranean, Turkish</td>\n",
       "      <td>No</td>\n",
       "      <td>No</td>\n",
       "      <td>No</td>\n",
       "      <td>0</td>\n",
       "    </tr>\n",
       "    <tr>\n",
       "      <th>10394</th>\n",
       "      <td>The Sandwich Post</td>\n",
       "      <td>No</td>\n",
       "      <td>Mediterranean, Turkish</td>\n",
       "      <td>No</td>\n",
       "      <td>No</td>\n",
       "      <td>No</td>\n",
       "      <td>0</td>\n",
       "    </tr>\n",
       "    <tr>\n",
       "      <th>10395</th>\n",
       "      <td>The Sandwich Cafe</td>\n",
       "      <td>No</td>\n",
       "      <td>Mediterranean, Turkish</td>\n",
       "      <td>No</td>\n",
       "      <td>No</td>\n",
       "      <td>No</td>\n",
       "      <td>0</td>\n",
       "    </tr>\n",
       "    <tr>\n",
       "      <th>10396</th>\n",
       "      <td>Lezzet Mediterranean Turkish Restaurant</td>\n",
       "      <td>No</td>\n",
       "      <td>Mediterranean, Turkish</td>\n",
       "      <td>No</td>\n",
       "      <td>No</td>\n",
       "      <td>No</td>\n",
       "      <td>0</td>\n",
       "    </tr>\n",
       "  </tbody>\n",
       "</table>\n",
       "<p>10396 rows × 7 columns</p>\n",
       "</div>"
      ],
      "text/plain": [
       "                                         Title Number of review  \\\n",
       "0                 All Stars Sports Bar & Grill               21   \n",
       "1                                   Olio e Piu            2,998   \n",
       "2                       Boucherie West Village            1,465   \n",
       "3                            Club A Steakhouse            4,413   \n",
       "4                    Piccola Cucina Estiatorio              403   \n",
       "...                                        ...              ...   \n",
       "10392                        The Sandwich Slut               No   \n",
       "10393                        The Sandwich Slut               No   \n",
       "10394                        The Sandwich Post               No   \n",
       "10395                        The Sandwich Cafe               No   \n",
       "10396  Lezzet Mediterranean Turkish Restaurant               No   \n",
       "\n",
       "                     Catagory  \\\n",
       "0                    Bar, Pub   \n",
       "1              Italian, Pizza   \n",
       "2          French, Steakhouse   \n",
       "3        American, Steakhouse   \n",
       "4           Italian, Sicilian   \n",
       "...                       ...   \n",
       "10392  Mediterranean, Turkish   \n",
       "10393  Mediterranean, Turkish   \n",
       "10394  Mediterranean, Turkish   \n",
       "10395  Mediterranean, Turkish   \n",
       "10396  Mediterranean, Turkish   \n",
       "\n",
       "                                          Reveiw Comment  Popular food  \\\n",
       "0           “The fries were terrific also, hot crisp...”         fries   \n",
       "1                “I love the food and our server Maria!”  filet mignon   \n",
       "2      “The filet mignon was impeccable and the musse...       lobster   \n",
       "3      “My seafood cocktail had wonderful large lump ...  cacio e pepe   \n",
       "4      “penne al pomodoro and bucatini cacio e pepe w...       mussels   \n",
       "...                                                  ...           ...   \n",
       "10392                                                 No            No   \n",
       "10393                                                 No            No   \n",
       "10394                                                 No            No   \n",
       "10395                                                 No            No   \n",
       "10396                                                 No            No   \n",
       "\n",
       "      Online Order  n_Online Order  \n",
       "0              Yes               1  \n",
       "1              Yes               1  \n",
       "2              Yes               1  \n",
       "3              Yes               1  \n",
       "4              Yes               1  \n",
       "...            ...             ...  \n",
       "10392           No               0  \n",
       "10393           No               0  \n",
       "10394           No               0  \n",
       "10395           No               0  \n",
       "10396           No               0  \n",
       "\n",
       "[10396 rows x 7 columns]"
      ]
     },
     "execution_count": 27,
     "metadata": {},
     "output_type": "execute_result"
    }
   ],
   "source": [
    "df"
   ]
  },
  {
   "cell_type": "code",
   "execution_count": 28,
   "id": "13a8aa67",
   "metadata": {},
   "outputs": [],
   "source": [
    "#Export Data as Clean.CSV\n",
    "df.to_csv('Desktop/Trip_clean.csv', sep=';')"
   ]
  },
  {
   "cell_type": "code",
   "execution_count": null,
   "id": "b696a2bb",
   "metadata": {},
   "outputs": [],
   "source": []
  }
 ],
 "metadata": {
  "kernelspec": {
   "display_name": "Python 3 (ipykernel)",
   "language": "python",
   "name": "python3"
  },
  "language_info": {
   "codemirror_mode": {
    "name": "ipython",
    "version": 3
   },
   "file_extension": ".py",
   "mimetype": "text/x-python",
   "name": "python",
   "nbconvert_exporter": "python",
   "pygments_lexer": "ipython3",
   "version": "3.10.9"
  }
 },
 "nbformat": 4,
 "nbformat_minor": 5
}
