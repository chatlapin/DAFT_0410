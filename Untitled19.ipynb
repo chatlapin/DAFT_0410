{
  "nbformat": 4,
  "nbformat_minor": 0,
  "metadata": {
    "colab": {
      "provenance": [],
      "authorship_tag": "ABX9TyO8VxXsCfzj4fNnOTQ8UzkW",
      "include_colab_link": true
    },
    "kernelspec": {
      "name": "python3",
      "display_name": "Python 3"
    },
    "language_info": {
      "name": "python"
    }
  },
  "cells": [
    {
      "cell_type": "markdown",
      "metadata": {
        "id": "view-in-github",
        "colab_type": "text"
      },
      "source": [
        "<a href=\"https://colab.research.google.com/github/chatlapin/DAFT_0410/blob/main/Untitled19.ipynb\" target=\"_parent\"><img src=\"https://colab.research.google.com/assets/colab-badge.svg\" alt=\"Open In Colab\"/></a>"
      ]
    },
    {
      "cell_type": "code",
      "source": [
        "i = 1\n",
        "while(i<=10):\n",
        "    print(i)\n",
        "    i += 1"
      ],
      "metadata": {
        "colab": {
          "base_uri": "https://localhost:8080/"
        },
        "id": "pQOMcnUYjxp_",
        "outputId": "75b20b21-40c2-4ed9-f602-11fe5cfd6447"
      },
      "execution_count": 1,
      "outputs": [
        {
          "output_type": "stream",
          "name": "stdout",
          "text": [
            "1\n",
            "2\n",
            "3\n",
            "4\n",
            "5\n",
            "6\n",
            "7\n",
            "8\n",
            "9\n",
            "10\n"
          ]
        }
      ]
    },
    {
      "cell_type": "code",
      "source": [
        "list2=[]\n",
        "def divisiable_by_5(list1):\n",
        "   print(\"Given list\",list1)\n",
        "   for i in x:\n",
        "       if i%5==0:\n",
        "          list2.append(i)\n",
        "\n",
        "x== [12, 75, 150, 180, 145, 525, 50]\n",
        "divisiable_by_5(x)\n",
        "print(\"The list is\",list2)"
      ],
      "metadata": {
        "colab": {
          "base_uri": "https://localhost:8080/"
        },
        "id": "3QNWWuv0j4_A",
        "outputId": "ff9cad14-43ef-4573-d6f9-c1a38c3a5a50"
      },
      "execution_count": 3,
      "outputs": [
        {
          "output_type": "stream",
          "name": "stdout",
          "text": [
            "Given list [5, 18, 155, 18, 20, 25, 10]\n",
            "The list is [5, 155, 20, 25, 10]\n"
          ]
        }
      ]
    },
    {
      "cell_type": "code",
      "source": [
        "import re\n",
        "password = input(\"Password : \")\n",
        "flag = 0\n",
        "while True:\n",
        "    if (len(password)<=5):\n",
        "        flag = -1\n",
        "        break\n",
        "    elif (len(password)>=17):\n",
        "        flag = -1\n",
        "        break\n",
        "    elif not re.search(\"[a-z]\", password):\n",
        "        flag = -1\n",
        "        break\n",
        "    elif not re.search(\"[A-Z]\", password):\n",
        "        flag = -1\n",
        "        break\n",
        "    elif not re.search(\"[0-9]\", password):\n",
        "        flag = -1\n",
        "        break\n",
        "    elif not re.search(\"[$#@]\" , password):\n",
        "        flag = -1\n",
        "        break\n",
        "    else:\n",
        "        flag = 0\n",
        "        print(\"Valid Password\")\n",
        "        break\n",
        " \n",
        "if flag == -1:\n",
        "    print(\"Not a Valid Password \")"
      ],
      "metadata": {
        "id": "cjT4aRBl6oYV"
      },
      "execution_count": null,
      "outputs": []
    },
    {
      "cell_type": "code",
      "source": [],
      "metadata": {
        "id": "t1zmlF0jkQbY"
      },
      "execution_count": null,
      "outputs": []
    }
  ]
}